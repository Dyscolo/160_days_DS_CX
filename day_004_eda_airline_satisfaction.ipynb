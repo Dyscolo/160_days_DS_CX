{
 "cells": [
  {
   "cell_type": "markdown",
   "id": "1a53afd0",
   "metadata": {},
   "source": [
    "# Día 4 – EDA & Casting avanzado 🛫✨  \n",
    "**Dataset:** *Airline Passenger Satisfaction*  \n",
    "**URL directa:** `https://raw.githubusercontent.com/wessamsw/Airline_Passenger_Satisfaction/main/airline_passenger_satisfaction.csv`  \n",
    "\n",
    "En esta sesión profundizarás en un Análisis Exploratorio de Datos (EDA) completo **+** conversión de tipos.  \n",
    "Cada bloque sigue el formato TDAH‑friendly:\n",
    "\n",
    "| Paso | Contenido |\n",
    "|------|-----------|\n",
    "| 📋 **Tarea** | Qué debes hacer (con subtareas numeradas). |\n",
    "| 🎯 **Por qué lo haces** | Impacto directo o beneficio para CX / Data Science. |\n",
    "| 🧠 **Lógica** | Mini recordatorio teórico. |\n",
    "| 🔧 **Ejercicio** | Celda con `TODO:` para completar. |\n",
    "| 🔍 **Solución comentada** | Oculta por defecto. |\n",
    "| ✅ **Validación** | Tests automáticos. |\n",
    "| 💡 **Reflexión** | Cierra con tu insight personal. |\n"
   ]
  },
  {
   "cell_type": "markdown",
   "id": "9002ea95",
   "metadata": {},
   "source": [
    "## Paso 1 – Cargar datos & info inicial\n"
   ]
  },
  {
   "cell_type": "markdown",
   "id": "c5fa0be1",
   "metadata": {},
   "source": [
    "| Sección | Contenido |\n",
    "|---------|-----------|\n",
    "| 📋 **Tarea** | 1. Lee el CSV desde la URL.<br>2. Muestra `head()` (5 filas) y `df.shape`.<br>3. Ejecuta `df.info(memory_usage=\"deep\")` y guarda el resultado en una variable `info_before`. |\n",
    "| 🧠 **Lógica** | Conocer tamaño y tipos antes de modificar evita errores posteriores. |"
   ]
  },
  {
   "cell_type": "code",
   "execution_count": 4,
   "id": "562b1de5",
   "metadata": {},
   "outputs": [
    {
     "data": {
      "text/html": [
       "<div>\n",
       "<style scoped>\n",
       "    .dataframe tbody tr th:only-of-type {\n",
       "        vertical-align: middle;\n",
       "    }\n",
       "\n",
       "    .dataframe tbody tr th {\n",
       "        vertical-align: top;\n",
       "    }\n",
       "\n",
       "    .dataframe thead th {\n",
       "        text-align: right;\n",
       "    }\n",
       "</style>\n",
       "<table border=\"1\" class=\"dataframe\">\n",
       "  <thead>\n",
       "    <tr style=\"text-align: right;\">\n",
       "      <th></th>\n",
       "      <th>ID</th>\n",
       "      <th>Gender</th>\n",
       "      <th>Age</th>\n",
       "      <th>Customer Type</th>\n",
       "      <th>Type of Travel</th>\n",
       "      <th>Class</th>\n",
       "      <th>Flight Distance</th>\n",
       "      <th>Departure Delay</th>\n",
       "      <th>Arrival Delay</th>\n",
       "      <th>Departure and Arrival Time Convenience</th>\n",
       "      <th>...</th>\n",
       "      <th>On-board Service</th>\n",
       "      <th>Seat Comfort</th>\n",
       "      <th>Leg Room Service</th>\n",
       "      <th>Cleanliness</th>\n",
       "      <th>Food and Drink</th>\n",
       "      <th>In-flight Service</th>\n",
       "      <th>In-flight Wifi Service</th>\n",
       "      <th>In-flight Entertainment</th>\n",
       "      <th>Baggage Handling</th>\n",
       "      <th>Satisfaction</th>\n",
       "    </tr>\n",
       "  </thead>\n",
       "  <tbody>\n",
       "    <tr>\n",
       "      <th>0</th>\n",
       "      <td>1</td>\n",
       "      <td>Male</td>\n",
       "      <td>48</td>\n",
       "      <td>First-time</td>\n",
       "      <td>Business</td>\n",
       "      <td>Business</td>\n",
       "      <td>821</td>\n",
       "      <td>2</td>\n",
       "      <td>5.0</td>\n",
       "      <td>3</td>\n",
       "      <td>...</td>\n",
       "      <td>3</td>\n",
       "      <td>5</td>\n",
       "      <td>2</td>\n",
       "      <td>5</td>\n",
       "      <td>5</td>\n",
       "      <td>5</td>\n",
       "      <td>3</td>\n",
       "      <td>5</td>\n",
       "      <td>5</td>\n",
       "      <td>Neutral or Dissatisfied</td>\n",
       "    </tr>\n",
       "    <tr>\n",
       "      <th>1</th>\n",
       "      <td>2</td>\n",
       "      <td>Female</td>\n",
       "      <td>35</td>\n",
       "      <td>Returning</td>\n",
       "      <td>Business</td>\n",
       "      <td>Business</td>\n",
       "      <td>821</td>\n",
       "      <td>26</td>\n",
       "      <td>39.0</td>\n",
       "      <td>2</td>\n",
       "      <td>...</td>\n",
       "      <td>5</td>\n",
       "      <td>4</td>\n",
       "      <td>5</td>\n",
       "      <td>5</td>\n",
       "      <td>3</td>\n",
       "      <td>5</td>\n",
       "      <td>2</td>\n",
       "      <td>5</td>\n",
       "      <td>5</td>\n",
       "      <td>Satisfied</td>\n",
       "    </tr>\n",
       "    <tr>\n",
       "      <th>2</th>\n",
       "      <td>3</td>\n",
       "      <td>Male</td>\n",
       "      <td>41</td>\n",
       "      <td>Returning</td>\n",
       "      <td>Business</td>\n",
       "      <td>Business</td>\n",
       "      <td>853</td>\n",
       "      <td>0</td>\n",
       "      <td>0.0</td>\n",
       "      <td>4</td>\n",
       "      <td>...</td>\n",
       "      <td>3</td>\n",
       "      <td>5</td>\n",
       "      <td>3</td>\n",
       "      <td>5</td>\n",
       "      <td>5</td>\n",
       "      <td>3</td>\n",
       "      <td>4</td>\n",
       "      <td>3</td>\n",
       "      <td>3</td>\n",
       "      <td>Satisfied</td>\n",
       "    </tr>\n",
       "    <tr>\n",
       "      <th>3</th>\n",
       "      <td>4</td>\n",
       "      <td>Male</td>\n",
       "      <td>50</td>\n",
       "      <td>Returning</td>\n",
       "      <td>Business</td>\n",
       "      <td>Business</td>\n",
       "      <td>1905</td>\n",
       "      <td>0</td>\n",
       "      <td>0.0</td>\n",
       "      <td>2</td>\n",
       "      <td>...</td>\n",
       "      <td>5</td>\n",
       "      <td>5</td>\n",
       "      <td>5</td>\n",
       "      <td>4</td>\n",
       "      <td>4</td>\n",
       "      <td>5</td>\n",
       "      <td>2</td>\n",
       "      <td>5</td>\n",
       "      <td>5</td>\n",
       "      <td>Satisfied</td>\n",
       "    </tr>\n",
       "    <tr>\n",
       "      <th>4</th>\n",
       "      <td>5</td>\n",
       "      <td>Female</td>\n",
       "      <td>49</td>\n",
       "      <td>Returning</td>\n",
       "      <td>Business</td>\n",
       "      <td>Business</td>\n",
       "      <td>3470</td>\n",
       "      <td>0</td>\n",
       "      <td>1.0</td>\n",
       "      <td>3</td>\n",
       "      <td>...</td>\n",
       "      <td>3</td>\n",
       "      <td>4</td>\n",
       "      <td>4</td>\n",
       "      <td>5</td>\n",
       "      <td>4</td>\n",
       "      <td>3</td>\n",
       "      <td>3</td>\n",
       "      <td>3</td>\n",
       "      <td>3</td>\n",
       "      <td>Satisfied</td>\n",
       "    </tr>\n",
       "  </tbody>\n",
       "</table>\n",
       "<p>5 rows × 24 columns</p>\n",
       "</div>"
      ],
      "text/plain": [
       "   ID  Gender  Age Customer Type Type of Travel     Class  Flight Distance  \\\n",
       "0   1    Male   48    First-time       Business  Business              821   \n",
       "1   2  Female   35     Returning       Business  Business              821   \n",
       "2   3    Male   41     Returning       Business  Business              853   \n",
       "3   4    Male   50     Returning       Business  Business             1905   \n",
       "4   5  Female   49     Returning       Business  Business             3470   \n",
       "\n",
       "   Departure Delay  Arrival Delay  Departure and Arrival Time Convenience  \\\n",
       "0                2            5.0                                       3   \n",
       "1               26           39.0                                       2   \n",
       "2                0            0.0                                       4   \n",
       "3                0            0.0                                       2   \n",
       "4                0            1.0                                       3   \n",
       "\n",
       "   ...  On-board Service  Seat Comfort  Leg Room Service  Cleanliness  \\\n",
       "0  ...                 3             5                 2            5   \n",
       "1  ...                 5             4                 5            5   \n",
       "2  ...                 3             5                 3            5   \n",
       "3  ...                 5             5                 5            4   \n",
       "4  ...                 3             4                 4            5   \n",
       "\n",
       "   Food and Drink  In-flight Service  In-flight Wifi Service  \\\n",
       "0               5                  5                       3   \n",
       "1               3                  5                       2   \n",
       "2               5                  3                       4   \n",
       "3               4                  5                       2   \n",
       "4               4                  3                       3   \n",
       "\n",
       "   In-flight Entertainment  Baggage Handling             Satisfaction  \n",
       "0                        5                 5  Neutral or Dissatisfied  \n",
       "1                        5                 5                Satisfied  \n",
       "2                        3                 3                Satisfied  \n",
       "3                        5                 5                Satisfied  \n",
       "4                        3                 3                Satisfied  \n",
       "\n",
       "[5 rows x 24 columns]"
      ]
     },
     "metadata": {},
     "output_type": "display_data"
    },
    {
     "name": "stdout",
     "output_type": "stream",
     "text": [
      "(129880, 24)\n",
      "<class 'pandas.core.frame.DataFrame'>\n",
      "RangeIndex: 129880 entries, 0 to 129879\n",
      "Data columns (total 24 columns):\n",
      " #   Column                                  Non-Null Count   Dtype  \n",
      "---  ------                                  --------------   -----  \n",
      " 0   ID                                      129880 non-null  int64  \n",
      " 1   Gender                                  129880 non-null  object \n",
      " 2   Age                                     129880 non-null  int64  \n",
      " 3   Customer Type                           129880 non-null  object \n",
      " 4   Type of Travel                          129880 non-null  object \n",
      " 5   Class                                   129880 non-null  object \n",
      " 6   Flight Distance                         129880 non-null  int64  \n",
      " 7   Departure Delay                         129880 non-null  int64  \n",
      " 8   Arrival Delay                           129487 non-null  float64\n",
      " 9   Departure and Arrival Time Convenience  129880 non-null  int64  \n",
      " 10  Ease of Online Booking                  129880 non-null  int64  \n",
      " 11  Check-in Service                        129880 non-null  int64  \n",
      " 12  Online Boarding                         129880 non-null  int64  \n",
      " 13  Gate Location                           129880 non-null  int64  \n",
      " 14  On-board Service                        129880 non-null  int64  \n",
      " 15  Seat Comfort                            129880 non-null  int64  \n",
      " 16  Leg Room Service                        129880 non-null  int64  \n",
      " 17  Cleanliness                             129880 non-null  int64  \n",
      " 18  Food and Drink                          129880 non-null  int64  \n",
      " 19  In-flight Service                       129880 non-null  int64  \n",
      " 20  In-flight Wifi Service                  129880 non-null  int64  \n",
      " 21  In-flight Entertainment                 129880 non-null  int64  \n",
      " 22  Baggage Handling                        129880 non-null  int64  \n",
      " 23  Satisfaction                            129880 non-null  object \n",
      "dtypes: float64(1), int64(18), object(5)\n",
      "memory usage: 23.8+ MB\n",
      "None\n",
      "<class 'pandas.core.frame.DataFrame'>\n",
      "RangeIndex: 129880 entries, 0 to 129879\n",
      "Data columns (total 24 columns):\n",
      " #   Column                                  Non-Null Count   Dtype  \n",
      "---  ------                                  --------------   -----  \n",
      " 0   ID                                      129880 non-null  int64  \n",
      " 1   Gender                                  129880 non-null  object \n",
      " 2   Age                                     129880 non-null  int64  \n",
      " 3   Customer Type                           129880 non-null  object \n",
      " 4   Type of Travel                          129880 non-null  object \n",
      " 5   Class                                   129880 non-null  object \n",
      " 6   Flight Distance                         129880 non-null  int64  \n",
      " 7   Departure Delay                         129880 non-null  int64  \n",
      " 8   Arrival Delay                           129487 non-null  float64\n",
      " 9   Departure and Arrival Time Convenience  129880 non-null  int64  \n",
      " 10  Ease of Online Booking                  129880 non-null  int64  \n",
      " 11  Check-in Service                        129880 non-null  int64  \n",
      " 12  Online Boarding                         129880 non-null  int64  \n",
      " 13  Gate Location                           129880 non-null  int64  \n",
      " 14  On-board Service                        129880 non-null  int64  \n",
      " 15  Seat Comfort                            129880 non-null  int64  \n",
      " 16  Leg Room Service                        129880 non-null  int64  \n",
      " 17  Cleanliness                             129880 non-null  int64  \n",
      " 18  Food and Drink                          129880 non-null  int64  \n",
      " 19  In-flight Service                       129880 non-null  int64  \n",
      " 20  In-flight Wifi Service                  129880 non-null  int64  \n",
      " 21  In-flight Entertainment                 129880 non-null  int64  \n",
      " 22  Baggage Handling                        129880 non-null  int64  \n",
      " 23  Satisfaction                            129880 non-null  object \n",
      "dtypes: float64(1), int64(18), object(5)\n",
      "memory usage: 23.8+ MB\n"
     ]
    }
   ],
   "source": [
    "# 👉 PASO 1: Carga y vista rápida\n",
    "import pandas as pd\n",
    "\n",
    "URL = \"https://raw.githubusercontent.com/wessamsw/Airline_Passenger_Satisfaction/main/airline_passenger_satisfaction.csv\"\n",
    "df = pd.read_csv(URL)\n",
    "\n",
    "# TODO: imprime head, shape e info y guarda info_before (como texto)\n",
    "display(df.head())\n",
    "print(df.shape)\n",
    "print(df.info())\n",
    "info_before = df.info(buf=None)"
   ]
  },
  {
   "cell_type": "code",
   "execution_count": null,
   "id": "916ad6ae",
   "metadata": {
    "jupyter": {
     "source_hidden": true
    },
    "tags": [
     "solution"
    ]
   },
   "outputs": [],
   "source": [
    "# --- SOLUCIÓN COMENTADA ---\n",
    "# df = pd.read_csv(URL)\n",
    "# display(df.head())\n",
    "# print(df.shape)\n",
    "# import io, sys\n",
    "# buffer = io.StringIO()\n",
    "# df.info(memory_usage=\"deep\", buf=buffer)\n",
    "# info_before = buffer.getvalue()\n"
   ]
  },
  {
   "cell_type": "code",
   "execution_count": 5,
   "id": "274bb86a",
   "metadata": {},
   "outputs": [
    {
     "name": "stdout",
     "output_type": "stream",
     "text": [
      "✅ Dataset cargado correctamente\n"
     ]
    }
   ],
   "source": [
    "# ✅ Validación\n",
    "assert df.shape[0] > 1000, \"El dataframe debería tener >1000 filas\"\n",
    "print(\"✅ Dataset cargado correctamente\")"
   ]
  },
  {
   "cell_type": "markdown",
   "id": "78586991",
   "metadata": {},
   "source": [
    "### 💡 Reflexión\n",
    "¿Qué primeras hipótesis o preguntas CX surgen al ver las primeras filas?\n"
   ]
  },
  {
   "cell_type": "markdown",
   "id": "12e37721",
   "metadata": {},
   "source": [
    "## Paso 2 – Casting avanzado\n"
   ]
  },
  {
   "cell_type": "markdown",
   "id": "a56511b2",
   "metadata": {},
   "source": [
    "| Sección | Contenido |\n",
    "|---------|-----------|\n",
    "| 📋 **Tarea** | 1. Convierte `Gender`,`Customer_Type`,`Type_of_Travel`,`Class`,`Seat_comfort` a `category`.<br>2. Crea `flight_date` fusionando `Flight_date` y asegúrate de que sea `datetime64[ns]` (si no existe usa `Departure/Arrival_Time` combinar; en dataset real hay `Date_of_Flight`).<br>3. Convierte `Departure_Delay_in_Minutes` y `Arrival_Delay_in_Minutes` a `Int64`.<br>4. Crea columna booleana `is_delayed` = `Departure_Delay_in_Minutes` > 0. |\n",
    "| 🧠 **Lógica** | Categorías ahorran memoria y mejoran rendimiento; enteros nulos (`Int64`) preservan *NaN*; `datetime` permite operaciones de tiempo. |"
   ]
  },
  {
   "cell_type": "code",
   "execution_count": 56,
   "id": "e5b590f3",
   "metadata": {},
   "outputs": [],
   "source": [
    "# 👉 PASO 2: Casting y nuevas columnas\n",
    "# TODO: realiza las conversiones solicitadas\n",
    "cat_cols = ['Gender','Customer Type','Type of Travel','Class',\n",
    "            'Seat Comfort']\n",
    "\n",
    "for c in cat_cols:\n",
    "    df[c] = df[c].astype('category')\n",
    "\n",
    "for d in ['Arrival Delay', 'Departure Delay']:\n",
    "    df[d] = pd.to_numeric(df[d], errors='coerce').astype('Int64')\n",
    "\n",
    "df['is_delayed'] = (df['Departure Delay'] > 0)"
   ]
  },
  {
   "cell_type": "code",
   "execution_count": null,
   "id": "e5941481",
   "metadata": {
    "jupyter": {
     "source_hidden": true
    },
    "tags": [
     "solution"
    ]
   },
   "outputs": [],
   "source": [
    "# --- SOLUCIÓN COMENTADA ---\n",
    "# cat_cols = ['Gender','Customer_Type','Type_of_Travel','Class','Seat_comfort']\n",
    "# for c in cat_cols:\n",
    "#     if c in df.columns:\n",
    "#         df[c] = df[c].astype('category')\n",
    "# # Ejemplo de fecha (dataset tiene 'Date' + 'Time' normalmente)\n",
    "# if 'Date' in df.columns:\n",
    "#     df['flight_date'] = pd.to_datetime(df['Date'], errors='coerce')\n",
    "# # Delays\n",
    "# for d in ['Departure_Delay_in_Minutes','Arrival_Delay_in_Minutes']:\n",
    "#     if d in df.columns:\n",
    "#         df[d] = pd.to_numeric(df[d], errors='coerce').astype('Int64')\n",
    "# df['is_delayed'] = df['Departure_Delay_in_Minutes'] > 0\n"
   ]
  },
  {
   "cell_type": "code",
   "execution_count": 57,
   "id": "cf9fb8a9",
   "metadata": {},
   "outputs": [
    {
     "name": "stdout",
     "output_type": "stream",
     "text": [
      "✅ Cast y columnas generadas correctamente\n"
     ]
    }
   ],
   "source": [
    "# ✅ Validación\n",
    "assert 'is_delayed' in df.columns, \"Falta la columna is_delayed\"\n",
    "assert df['is_delayed'].dtype == 'boolean', \"is_delayed debe ser bool\"\n",
    "print(\"✅ Cast y columnas generadas correctamente\")"
   ]
  },
  {
   "cell_type": "markdown",
   "id": "97ab4b37",
   "metadata": {},
   "source": [
    "### 💡 Reflexión\n",
    "¿Cuánto disminuyó el uso de memoria tras las conversiones? Compara `info_before` vs `df.info()`.\n"
   ]
  },
  {
   "cell_type": "markdown",
   "id": "7054c407",
   "metadata": {},
   "source": [
    "## Paso 3 – Estadística descriptiva\n"
   ]
  },
  {
   "cell_type": "markdown",
   "id": "42e219ba",
   "metadata": {},
   "source": [
    "| Sección | Contenido |\n",
    "|---------|-----------|\n",
    "| 📋 **Tarea** | 1. Calcula `df.describe()` para variables numéricas.<br>2. Calcula `value_counts(normalize=True)` de `Type_of_Travel` y `Class`.<br>3. Guarda el resultado en variables `desc_stats` y `travel_dist`. |\n",
    "| 🧠 **Lógica** | Estadística descriptiva ofrece insight rápido sobre tendencia, dispersión y composición de segmentos de viaje. |"
   ]
  },
  {
   "cell_type": "code",
   "execution_count": 63,
   "id": "f4f11380",
   "metadata": {},
   "outputs": [],
   "source": [
    "# 👉 PASO 3: Estadísticas descriptivas\n",
    "# TODO: genera desc_stats y travel_dist\n",
    "desc_stats = df.select_dtypes('number').describe()\n",
    "travel_dist = df['Type of Travel'].value_counts(normalize=True)\n",
    "\n"
   ]
  },
  {
   "cell_type": "code",
   "execution_count": null,
   "id": "ca5ed5df",
   "metadata": {
    "jupyter": {
     "source_hidden": true
    },
    "tags": [
     "solution"
    ]
   },
   "outputs": [],
   "source": [
    "# --- SOLUCIÓN COMENTADA ---\n",
    "# desc_stats = df.select_dtypes('number').describe()\n",
    "# travel_dist = df['Type_of_Travel'].value_counts(normalize=True)\n"
   ]
  },
  {
   "cell_type": "code",
   "execution_count": 64,
   "id": "d6a5a88d",
   "metadata": {},
   "outputs": [
    {
     "name": "stdout",
     "output_type": "stream",
     "text": [
      "✅ Estadísticas generadas\n"
     ]
    }
   ],
   "source": [
    "# ✅ Validación\n",
    "assert 'desc_stats' in globals(), \"Debe existir desc_stats\"\n",
    "assert 'travel_dist' in globals(), \"Debe existir travel_dist\"\n",
    "print(\"✅ Estadísticas generadas\")"
   ]
  },
  {
   "cell_type": "markdown",
   "id": "fd02c823",
   "metadata": {},
   "source": [
    "### 💡 Reflexión\n",
    "¿Alguna variable muestra un rango o outliers llamativos? ¿Qué categorías dominan?\n"
   ]
  },
  {
   "cell_type": "markdown",
   "id": "6a07baae",
   "metadata": {},
   "source": [
    "## Paso 4 – Visualización exploratoria\n"
   ]
  },
  {
   "cell_type": "markdown",
   "id": "ad7cb01e",
   "metadata": {},
   "source": [
    "| Sección | Contenido |\n",
    "|---------|-----------|\n",
    "| 📋 **Tarea** | 1. Dibuja un histograma de `Age`.<br>2. Dibuja un boxplot de `Flight_Distance` segregado por `Class` (usa pandas `boxplot` o matplotlib).<br>3. Guarda las figuras. |\n",
    "| 🧠 **Lógica** | Histogramas muestran distribución; boxplot detecta asimetría y outliers entre segmentos CX. |"
   ]
  },
  {
   "cell_type": "code",
   "execution_count": 68,
   "id": "937b525a",
   "metadata": {},
   "outputs": [
    {
     "data": {
      "text/plain": [
       "Text(0.5, 1.0, 'Distancia de Vuelo por Clase')"
      ]
     },
     "execution_count": 68,
     "metadata": {},
     "output_type": "execute_result"
    },
    {
     "data": {
      "image/png": "[encoded data removed]",
      "text/plain": [
       "<Figure size 640x480 with 1 Axes>"
      ]
     },
     "metadata": {},
     "output_type": "display_data"
    },
    {
     "data": {
      "text/plain": [
       "<Figure size 640x480 with 0 Axes>"
      ]
     },
     "metadata": {},
     "output_type": "display_data"
    },
    {
     "data": {
      "image/png": "[encoded data removed]",
      "text/plain": [
       "<Figure size 640x480 with 1 Axes>"
      ]
     },
     "metadata": {},
     "output_type": "display_data"
    }
   ],
   "source": [
    "# 👉 PASO 4: Visualizaciones\n",
    "import matplotlib.pyplot as plt\n",
    "\n",
    "# TODO: histograma Age\n",
    "plt.figure()\n",
    "df['Age'].hist(bins=30, edgecolor='black', grid=False)\n",
    "plt.title('Distribución de Edad')\n",
    "plt.xlabel('Edad')\n",
    "plt.ylabel('Frecuencia')\n",
    "plt.figure()\n",
    "\n",
    "# TODO: boxplot Flight_Distance por Class\n",
    "\n",
    "df.boxplot(column='Flight Distance', by='Class', grid=False, rot=45)\n",
    "plt.title('Distancia de Vuelo por Clase')\n",
    "\n"
   ]
  },
  {
   "cell_type": "code",
   "execution_count": null,
   "id": "8850ea62",
   "metadata": {
    "jupyter": {
     "source_hidden": true
    },
    "tags": [
     "solution"
    ]
   },
   "outputs": [],
   "source": [
    "# --- SOLUCIÓN COMENTADA ---\n",
    "# plt.figure()\n",
    "# df['Age'].hist(bins=30)\n",
    "# plt.title(\"Distribución de Edad\")\n",
    "# plt.figure()\n",
    "# df.boxplot(column='Flight_Distance', by='Class', rot=45)\n",
    "# plt.title(\"Flight Distance por Class\")\n"
   ]
  },
  {
   "cell_type": "code",
   "execution_count": 69,
   "id": "7702868e",
   "metadata": {},
   "outputs": [
    {
     "name": "stdout",
     "output_type": "stream",
     "text": [
      "✅ Gráficas generadas (revisa visualmente)\n"
     ]
    }
   ],
   "source": [
    "# Validación: manual (observa las gráficas)\n",
    "print(\"✅ Gráficas generadas (revisa visualmente)\")"
   ]
  },
  {
   "cell_type": "markdown",
   "id": "2c3b4589",
   "metadata": {},
   "source": [
    "### 💡 Reflexión\n",
    "¿Qué diferencias ves entre clases económicas y ejecutivas en distancia de vuelo?\n"
   ]
  },
  {
   "cell_type": "markdown",
   "id": "2ed67d48",
   "metadata": {},
   "source": [
    "## Paso 5 – Correlaciones clave\n"
   ]
  },
  {
   "cell_type": "markdown",
   "id": "82c7b2e6",
   "metadata": {},
   "source": [
    "| Sección | Contenido |\n",
    "|---------|-----------|\n",
    "| 📋 **Tarea** | 1. Crea un `DataFrame` `corr_num` con la matriz de correlación de variables numéricas.<br>2. Extrae las 5 mayores correlaciones (absolutas) con `satisfaction` (o la columna equivalente en tu dataset).<br>3. Guarda en `top_corr`. |\n",
    "| 🧠 **Lógica** | La matriz de correlación señala relaciones lineales; priorizar variables altamente relacionadas ayuda a modelos predictivos de satisfacción. |"
   ]
  },
  {
   "cell_type": "code",
   "execution_count": 77,
   "id": "de6f1588",
   "metadata": {},
   "outputs": [
    {
     "name": "stdout",
     "output_type": "stream",
     "text": [
      "Correlaciones numéricas:\n",
      "                                              ID       Age  Flight Distance  \\\n",
      "ID                                      1.000000  0.020322         0.095504   \n",
      "Age                                     0.020322  1.000000         0.099459   \n",
      "Flight Distance                         0.095504  0.099459         1.000000   \n",
      "Departure Delay                        -0.017643 -0.009041         0.002402   \n",
      "Arrival Delay                          -0.035657 -0.011248        -0.001935   \n",
      "Departure and Arrival Time Convenience -0.002192  0.036960        -0.018914   \n",
      "Ease of Online Booking                  0.013400  0.022565         0.065165   \n",
      "Check-in Service                        0.079325  0.033475         0.073608   \n",
      "Online Boarding                         0.055538  0.207572         0.214825   \n",
      "Gate Location                          -0.000113 -0.000398         0.005520   \n",
      "On-board Service                        0.055502  0.057078         0.111194   \n",
      "Leg Room Service                        0.044088  0.039119         0.134533   \n",
      "Cleanliness                             0.024048  0.052565         0.095648   \n",
      "Food and Drink                         -0.000510  0.023194         0.057066   \n",
      "In-flight Service                       0.078793 -0.051347         0.059316   \n",
      "In-flight Wifi Service                 -0.023096  0.016116         0.006701   \n",
      "In-flight Entertainment                 0.001620  0.074947         0.130507   \n",
      "Baggage Handling                        0.074569 -0.047991         0.064855   \n",
      "\n",
      "                                        Departure Delay  Arrival Delay  \\\n",
      "ID                                            -0.017643      -0.035657   \n",
      "Age                                           -0.009041      -0.011248   \n",
      "Flight Distance                                0.002402      -0.001935   \n",
      "Departure Delay                                1.000000       0.965291   \n",
      "Arrival Delay                                  0.965291       1.000000   \n",
      "Departure and Arrival Time Convenience         0.000778      -0.000942   \n",
      "Ease of Online Booking                        -0.005318      -0.007033   \n",
      "Check-in Service                              -0.018752      -0.021705   \n",
      "Online Boarding                               -0.019404      -0.022730   \n",
      "Gate Location                                  0.005973       0.005658   \n",
      "On-board Service                              -0.030486      -0.034789   \n",
      "Leg Room Service                               0.014574       0.011346   \n",
      "Cleanliness                                   -0.014543      -0.016546   \n",
      "Food and Drink                                -0.029164      -0.031715   \n",
      "In-flight Service                             -0.054432      -0.059853   \n",
      "In-flight Wifi Service                        -0.015946      -0.017749   \n",
      "In-flight Entertainment                       -0.027012      -0.030230   \n",
      "Baggage Handling                              -0.004105      -0.007935   \n",
      "\n",
      "                                        Departure and Arrival Time Convenience  \\\n",
      "ID                                                                   -0.002192   \n",
      "Age                                                                   0.036960   \n",
      "Flight Distance                                                      -0.018914   \n",
      "Departure Delay                                                       0.000778   \n",
      "Arrival Delay                                                        -0.000942   \n",
      "Departure and Arrival Time Convenience                                1.000000   \n",
      "Ease of Online Booking                                                0.437620   \n",
      "Check-in Service                                                      0.091132   \n",
      "Online Boarding                                                       0.072287   \n",
      "Gate Location                                                         0.447510   \n",
      "On-board Service                                                      0.067297   \n",
      "Leg Room Service                                                      0.010617   \n",
      "Cleanliness                                                           0.009862   \n",
      "Food and Drink                                                        0.000687   \n",
      "In-flight Service                                                     0.072195   \n",
      "In-flight Wifi Service                                                0.344915   \n",
      "In-flight Entertainment                                              -0.008380   \n",
      "Baggage Handling                                                      0.070833   \n",
      "\n",
      "                                        Ease of Online Booking  \\\n",
      "ID                                                    0.013400   \n",
      "Age                                                   0.022565   \n",
      "Flight Distance                                       0.065165   \n",
      "Departure Delay                                      -0.005318   \n",
      "Arrival Delay                                        -0.007033   \n",
      "Departure and Arrival Time Convenience                0.437620   \n",
      "Ease of Online Booking                                1.000000   \n",
      "Check-in Service                                      0.008819   \n",
      "Online Boarding                                       0.404866   \n",
      "Gate Location                                         0.460041   \n",
      "On-board Service                                      0.039064   \n",
      "Leg Room Service                                      0.109450   \n",
      "Cleanliness                                           0.015125   \n",
      "Food and Drink                                        0.030514   \n",
      "In-flight Service                                     0.035373   \n",
      "In-flight Wifi Service                                0.714807   \n",
      "In-flight Entertainment                               0.046564   \n",
      "Baggage Handling                                      0.039148   \n",
      "\n",
      "                                        Check-in Service  Online Boarding  \\\n",
      "ID                                              0.079325         0.055538   \n",
      "Age                                             0.033475         0.207572   \n",
      "Flight Distance                                 0.073608         0.214825   \n",
      "Departure Delay                                -0.018752        -0.019404   \n",
      "Arrival Delay                                  -0.021705        -0.022730   \n",
      "Departure and Arrival Time Convenience          0.091132         0.072287   \n",
      "Ease of Online Booking                          0.008819         0.404866   \n",
      "Check-in Service                                1.000000         0.204238   \n",
      "Online Boarding                                 0.204238         1.000000   \n",
      "Gate Location                                  -0.039353         0.002756   \n",
      "On-board Service                                0.244619         0.154242   \n",
      "Leg Room Service                                0.152693         0.123225   \n",
      "Cleanliness                                     0.176658         0.329377   \n",
      "Food and Drink                                  0.085198         0.233500   \n",
      "In-flight Service                               0.237601         0.074058   \n",
      "In-flight Wifi Service                          0.043762         0.457445   \n",
      "In-flight Entertainment                         0.119554         0.283922   \n",
      "Baggage Handling                                0.234503         0.083541   \n",
      "\n",
      "                                        Gate Location  On-board Service  \\\n",
      "ID                                          -0.000113          0.055502   \n",
      "Age                                         -0.000398          0.057078   \n",
      "Flight Distance                              0.005520          0.111194   \n",
      "Departure Delay                              0.005973         -0.030486   \n",
      "Arrival Delay                                0.005658         -0.034789   \n",
      "Departure and Arrival Time Convenience       0.447510          0.067297   \n",
      "Ease of Online Booking                       0.460041          0.039064   \n",
      "Check-in Service                            -0.039353          0.244619   \n",
      "Online Boarding                              0.002756          0.154242   \n",
      "Gate Location                                1.000000         -0.029019   \n",
      "On-board Service                            -0.029019          1.000000   \n",
      "Leg Room Service                            -0.005181          0.357721   \n",
      "Cleanliness                                 -0.005918          0.122084   \n",
      "Food and Drink                              -0.002872          0.057404   \n",
      "In-flight Service                            0.000310          0.551569   \n",
      "In-flight Wifi Service                       0.338573          0.119928   \n",
      "In-flight Entertainment                      0.002741          0.418574   \n",
      "Baggage Handling                             0.000972          0.520296   \n",
      "\n",
      "                                        Leg Room Service  Cleanliness  \\\n",
      "ID                                              0.044088     0.024048   \n",
      "Age                                             0.039119     0.052565   \n",
      "Flight Distance                                 0.134533     0.095648   \n",
      "Departure Delay                                 0.014574    -0.014543   \n",
      "Arrival Delay                                   0.011346    -0.016546   \n",
      "Departure and Arrival Time Convenience          0.010617     0.009862   \n",
      "Ease of Online Booking                          0.109450     0.015125   \n",
      "Check-in Service                                0.152693     0.176658   \n",
      "Online Boarding                                 0.123225     0.329377   \n",
      "Gate Location                                  -0.005181    -0.005918   \n",
      "On-board Service                                0.357721     0.122084   \n",
      "Leg Room Service                                1.000000     0.096695   \n",
      "Cleanliness                                     0.096695     1.000000   \n",
      "Food and Drink                                  0.033173     0.658054   \n",
      "In-flight Service                               0.369569     0.090356   \n",
      "In-flight Wifi Service                          0.160317     0.131300   \n",
      "In-flight Entertainment                         0.300397     0.692511   \n",
      "Baggage Handling                                0.371455     0.097071   \n",
      "\n",
      "                                        Food and Drink  In-flight Service  \\\n",
      "ID                                           -0.000510           0.078793   \n",
      "Age                                           0.023194          -0.051347   \n",
      "Flight Distance                               0.057066           0.059316   \n",
      "Departure Delay                              -0.029164          -0.054432   \n",
      "Arrival Delay                                -0.031715          -0.059853   \n",
      "Departure and Arrival Time Convenience        0.000687           0.072195   \n",
      "Ease of Online Booking                        0.030514           0.035373   \n",
      "Check-in Service                              0.085198           0.237601   \n",
      "Online Boarding                               0.233500           0.074058   \n",
      "Gate Location                                -0.002872           0.000310   \n",
      "On-board Service                              0.057404           0.551569   \n",
      "Leg Room Service                              0.033173           0.369569   \n",
      "Cleanliness                                   0.658054           0.090356   \n",
      "Food and Drink                                1.000000           0.035210   \n",
      "In-flight Service                             0.035210           1.000000   \n",
      "In-flight Wifi Service                        0.132214           0.110029   \n",
      "In-flight Entertainment                       0.623461           0.406094   \n",
      "Baggage Handling                              0.035321           0.629237   \n",
      "\n",
      "                                        In-flight Wifi Service  \\\n",
      "ID                                                   -0.023096   \n",
      "Age                                                   0.016116   \n",
      "Flight Distance                                       0.006701   \n",
      "Departure Delay                                      -0.015946   \n",
      "Arrival Delay                                        -0.017749   \n",
      "Departure and Arrival Time Convenience                0.344915   \n",
      "Ease of Online Booking                                0.714807   \n",
      "Check-in Service                                      0.043762   \n",
      "Online Boarding                                       0.457445   \n",
      "Gate Location                                         0.338573   \n",
      "On-board Service                                      0.119928   \n",
      "Leg Room Service                                      0.160317   \n",
      "Cleanliness                                           0.131300   \n",
      "Food and Drink                                        0.132214   \n",
      "In-flight Service                                     0.110029   \n",
      "In-flight Wifi Service                                1.000000   \n",
      "In-flight Entertainment                               0.207802   \n",
      "Baggage Handling                                      0.120376   \n",
      "\n",
      "                                        In-flight Entertainment  \\\n",
      "ID                                                     0.001620   \n",
      "Age                                                    0.074947   \n",
      "Flight Distance                                        0.130507   \n",
      "Departure Delay                                       -0.027012   \n",
      "Arrival Delay                                         -0.030230   \n",
      "Departure and Arrival Time Convenience                -0.008380   \n",
      "Ease of Online Booking                                 0.046564   \n",
      "Check-in Service                                       0.119554   \n",
      "Online Boarding                                        0.283922   \n",
      "Gate Location                                          0.002741   \n",
      "On-board Service                                       0.418574   \n",
      "Leg Room Service                                       0.300397   \n",
      "Cleanliness                                            0.692511   \n",
      "Food and Drink                                         0.623461   \n",
      "In-flight Service                                      0.406094   \n",
      "In-flight Wifi Service                                 0.207802   \n",
      "In-flight Entertainment                                1.000000   \n",
      "Baggage Handling                                       0.379123   \n",
      "\n",
      "                                        Baggage Handling  \n",
      "ID                                              0.074569  \n",
      "Age                                            -0.047991  \n",
      "Flight Distance                                 0.064855  \n",
      "Departure Delay                                -0.004105  \n",
      "Arrival Delay                                  -0.007935  \n",
      "Departure and Arrival Time Convenience          0.070833  \n",
      "Ease of Online Booking                          0.039148  \n",
      "Check-in Service                                0.234503  \n",
      "Online Boarding                                 0.083541  \n",
      "Gate Location                                   0.000972  \n",
      "On-board Service                                0.520296  \n",
      "Leg Room Service                                0.371455  \n",
      "Cleanliness                                     0.097071  \n",
      "Food and Drink                                  0.035321  \n",
      "In-flight Service                               0.629237  \n",
      "In-flight Wifi Service                          0.120376  \n",
      "In-flight Entertainment                         0.379123  \n",
      "Baggage Handling                                1.000000  \n"
     ]
    }
   ],
   "source": [
    "# 👉 PASO 5: Correlaciones\n",
    "# TODO: calcula corr_num y top_corr\n",
    "\n",
    "num_cols = df.select_dtypes(include=['number']).columns\n",
    "corr_num = df[num_cols].corr()\n",
    "target = 'satisfaction' if 'satisfactio' in corr_num.columns else corr_num.columns[-1]\n",
    "top_corr = corr_num[target].sort_values(ascending=False).head(10)\n",
    "\n",
    "print(\"Correlaciones numéricas:\")\n",
    "print(corr_num)\n"
   ]
  },
  {
   "cell_type": "code",
   "execution_count": null,
   "id": "9310c705",
   "metadata": {
    "jupyter": {
     "source_hidden": true
    },
    "tags": [
     "solution"
    ]
   },
   "outputs": [],
   "source": [
    "# --- SOLUCIÓN COMENTADA ---\n",
    "# num_cols = df.select_dtypes('number').columns\n",
    "# corr_num = df[num_cols].corr()\n",
    "# target = 'satisfaction' if 'satisfaction' in corr_num.columns else corr_num.columns[-1]\n",
    "# top_corr = corr_num[target].abs().sort_values(ascending=False).head(6)\n"
   ]
  },
  {
   "cell_type": "code",
   "execution_count": 76,
   "id": "a568388b",
   "metadata": {},
   "outputs": [
    {
     "name": "stdout",
     "output_type": "stream",
     "text": [
      "✅ Correlación calculada\n"
     ]
    }
   ],
   "source": [
    "# ✅ Validación\n",
    "assert 'corr_num' in globals(), \"corr_num no definido\"\n",
    "print(\"✅ Correlación calculada\")"
   ]
  },
  {
   "cell_type": "markdown",
   "id": "667d1d73",
   "metadata": {},
   "source": [
    "### 💡 Reflexión\n",
    "¿Alguna variable es sorprendentemente correlacionada (positiva o negativa) con satisfacción?\n"
   ]
  },
  {
   "cell_type": "markdown",
   "id": "8ef7d3a1",
   "metadata": {},
   "source": [
    "## Paso 6 – Valores nulos\n"
   ]
  },
  {
   "cell_type": "markdown",
   "id": "3f48867e",
   "metadata": {},
   "source": [
    "| Sección | Contenido |\n",
    "|---------|-----------|\n",
    "| 📋 **Tarea** | 1. Calcula % de valores nulos por columna (`null_pct`).<br>2. Muestra solo columnas con >1 % de nulos, ordenadas descendentemente.<br>3. Guarda en `null_pct`. |\n",
    "| 🧠 **Lógica** | Conocer la magnitud de valores faltantes guía estrategias de imputación o eliminación. |"
   ]
  },
  {
   "cell_type": "code",
   "execution_count": 82,
   "id": "150c1330",
   "metadata": {},
   "outputs": [
    {
     "name": "stdout",
     "output_type": "stream",
     "text": [
      "Porcentaje de valores faltantes (>1%):\n",
      "Series([], dtype: float64)\n"
     ]
    }
   ],
   "source": [
    "# 👉 PASO 6: Valores faltantes\n",
    "# TODO: calcula null_pct (>1%)\n",
    "null_pct = df.isna().mean().mul(100).pipe(lambda s: s[s>1].sort_values(ascending=False))\n",
    "\n",
    "print(\"Porcentaje de valores faltantes (>1%):\")\n",
    "print(null_pct)"
   ]
  },
  {
   "cell_type": "code",
   "execution_count": null,
   "id": "c369b01a",
   "metadata": {
    "jupyter": {
     "source_hidden": true
    },
    "tags": [
     "solution"
    ]
   },
   "outputs": [],
   "source": [
    "# --- SOLUCIÓN COMENTADA ---\n",
    "# null_pct = df.isna().mean().mul(100).pipe(lambda s: s[s>1].sort_values(ascending=False))\n"
   ]
  },
  {
   "cell_type": "code",
   "execution_count": 80,
   "id": "344b238c",
   "metadata": {},
   "outputs": [
    {
     "name": "stdout",
     "output_type": "stream",
     "text": [
      "✅ Análisis de nulos listo\n"
     ]
    }
   ],
   "source": [
    "# ✅ Validación\n",
    "assert 'null_pct' in globals(), \"null_pct no definido\"\n",
    "print(\"✅ Análisis de nulos listo\")"
   ]
  },
  {
   "cell_type": "markdown",
   "id": "6371899b",
   "metadata": {},
   "source": [
    "### 💡 Reflexión\n",
    "¿Qué técnicas de imputación usarías para las columnas con >1 % de nulos y por qué?\n"
   ]
  }
 ],
 "metadata": {
  "kernelspec": {
   "display_name": "base",
   "language": "python",
   "name": "python3"
  },
  "language_info": {
   "codemirror_mode": {
    "name": "ipython",
    "version": 3
   },
   "file_extension": ".py",
   "mimetype": "text/x-python",
   "name": "python",
   "nbconvert_exporter": "python",
   "pygments_lexer": "ipython3",
   "version": "3.12.7"
  }
 },
 "nbformat": 4,
 "nbformat_minor": 5
}
