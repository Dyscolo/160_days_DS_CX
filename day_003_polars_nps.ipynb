{
 "cells": [
  {
   "cell_type": "markdown",
   "id": "4ea4a1a4",
   "metadata": {},
   "source": [
    "# Día 3 — DataFrames con Polars para Customer Experience (CX)\n",
    "\n",
    "> **Lectura obligatoria:** Vink, R. (2022). *Polars: A DataFrame Library for Rust and Python*  \n",
    "> **Dataset utilizado:** NPS_data.csv – encuesta pública de Net Promoter Score (link raw permanente)  \n",
    "\n",
    "En este notebook practicarás Polars con **micro‑retos** centrados en **Net Promoter Score (NPS)**, la métrica estrella de CX.\n",
    "\n",
    "Cada reto sigue el formato TDAH‑friendly:\n",
    "\n",
    "| Paso | Contenido |\n",
    "|------|-----------|\n",
    "| 📋 **Tarea** | Qué debes hacer, explicado paso a paso |\n",
    "| 🎯 **Por qué lo haces** | Impacto directo en CX / Data Science |\n",
    "| 🧠 **Lógica** | Razonamiento o teoría breve |\n",
    "| 🔧 **Ejercicio** | Celda de código con comentarios **TODO** |\n",
    "| 🔍 **Solución comentada** | Respuesta correcta (comentada, no ejecuta) |\n",
    "| ✅ **Validación** | Tests automáticos, muestran ✅ si todo OK |\n",
    "| 💡 **Reflexión** | Cierre sobre el aprendizaje y su aplicación práctica |\n",
    "\n",
    "> ⚙️ **Requisitos previos**  \n",
    "> ```bash\n",
    "> pip install polars==0.20.0\n",
    "> ```\n"
   ]
  },
  {
   "cell_type": "markdown",
   "id": "e11366ec",
   "metadata": {},
   "source": [
    "## 🔹 Reto 1 — Carga y exploración básica del NPS\n",
    "\n",
    "| Paso | |\n",
    "|-----|-----|\n",
    "| 📋 **Tarea** | Cargar el CSV de NPS directo desde GitHub Raw y revisar su estructura. |\n",
    "| 🎯 **Por qué lo haces** | Entender las columnas y tipos asegura limpieza previa a cualquier métrica CX. |\n",
    "| 🧠 **Lógica** | Polars detecta tipos al vuelo; validar `dtypes` evita errores río abajo. |\n"
   ]
  },
  {
   "cell_type": "code",
   "execution_count": 1,
   "id": "9f9e96c2",
   "metadata": {},
   "outputs": [
    {
     "name": "stdout",
     "output_type": "stream",
     "text": [
      "Collecting polars==0.20.0\n",
      "  Downloading polars-0.20.0-cp38-abi3-win_amd64.whl.metadata (15 kB)\n",
      "Downloading polars-0.20.0-cp38-abi3-win_amd64.whl (24.7 MB)\n",
      "   ---------------------------------------- 0.0/24.7 MB ? eta -:--:--\n",
      "   --- ------------------------------------ 2.1/24.7 MB 16.8 MB/s eta 0:00:02\n",
      "   ---- ----------------------------------- 2.6/24.7 MB 6.6 MB/s eta 0:00:04\n",
      "   ----- ---------------------------------- 3.1/24.7 MB 8.0 MB/s eta 0:00:03\n",
      "   ------ --------------------------------- 4.2/24.7 MB 5.7 MB/s eta 0:00:04\n",
      "   -------- ------------------------------- 5.2/24.7 MB 5.3 MB/s eta 0:00:04\n",
      "   ------------- -------------------------- 8.1/24.7 MB 6.7 MB/s eta 0:00:03\n",
      "   ---------------- ----------------------- 10.2/24.7 MB 7.2 MB/s eta 0:00:02\n",
      "   ------------------ --------------------- 11.5/24.7 MB 7.2 MB/s eta 0:00:02\n",
      "   -------------------- ------------------- 12.6/24.7 MB 7.0 MB/s eta 0:00:02\n",
      "   ---------------------- ----------------- 13.6/24.7 MB 7.1 MB/s eta 0:00:02\n",
      "   ------------------------- -------------- 15.7/24.7 MB 7.2 MB/s eta 0:00:02\n",
      "   ------------------------- -------------- 15.7/24.7 MB 7.2 MB/s eta 0:00:02\n",
      "   --------------------------- ------------ 16.8/24.7 MB 6.6 MB/s eta 0:00:02\n",
      "   ---------------------------- ----------- 17.8/24.7 MB 6.4 MB/s eta 0:00:02\n",
      "   ---------------------------- ----------- 17.8/24.7 MB 6.4 MB/s eta 0:00:02\n",
      "   ------------------------------ --------- 18.9/24.7 MB 6.1 MB/s eta 0:00:01\n",
      "   -------------------------------- ------- 19.9/24.7 MB 6.0 MB/s eta 0:00:01\n",
      "   --------------------------------- ------ 21.0/24.7 MB 5.9 MB/s eta 0:00:01\n",
      "   ----------------------------------- ---- 22.0/24.7 MB 5.9 MB/s eta 0:00:01\n",
      "   ------------------------------------- -- 23.1/24.7 MB 5.7 MB/s eta 0:00:01\n",
      "   ------------------------------------- -- 23.1/24.7 MB 5.7 MB/s eta 0:00:01\n",
      "   ---------------------------------------- 24.7/24.7 MB 5.6 MB/s eta 0:00:00\n",
      "Installing collected packages: polars\n",
      "Successfully installed polars-0.20.0\n"
     ]
    }
   ],
   "source": [
    "!pip install polars==0.20.0"
   ]
  },
  {
   "cell_type": "code",
   "execution_count": null,
   "id": "a603e35b",
   "metadata": {},
   "outputs": [
    {
     "name": "stdout",
     "output_type": "stream",
     "text": [
      "Defaulting to user installation because normal site-packages is not writeable\n",
      "Collecting polars>=0.20.27\n",
      "  Using cached polars-1.31.0-cp39-abi3-win_amd64.whl.metadata (15 kB)\n",
      "Using cached polars-1.31.0-cp39-abi3-win_amd64.whl (35.2 MB)\n",
      "Installing collected packages: polars\n",
      "Successfully installed polars-1.31.0\n"
     ]
    }
   ],
   "source": [
    "# import sys \n",
    "# Instalación de polars (Opcional)\n",
    "# !{sys.executable} -m pip install -U polars"
   ]
  },
  {
   "cell_type": "code",
   "execution_count": 40,
   "id": "77222467",
   "metadata": {},
   "outputs": [
    {
     "name": "stdout",
     "output_type": "stream",
     "text": [
      "shape: (5, 6)\n",
      "┌────────────┬─────────────────────────────────┬─────────┬────────────┬───────────────┬──────────┐\n",
      "│ year_month ┆ patient_uuid                    ┆ Region  ┆ Company    ┆ survey_result ┆ sessions │\n",
      "│ ---        ┆ ---                             ┆ ---     ┆ ---        ┆ ---           ┆ ---      │\n",
      "│ i64        ┆ str                             ┆ str     ┆ str        ┆ i64           ┆ i64      │\n",
      "╞════════════╪═════════════════════════════════╪═════════╪════════════╪═══════════════╪══════════╡\n",
      "│ 202104     ┆ bf728334-f122-4070-ad90-6e95d9… ┆ Lisboa  ┆ MedicoTech ┆ 10            ┆ 2        │\n",
      "│ 202104     ┆ 2930f901-69ca-4191-ac1e-04e837… ┆ Porto   ┆ MedicoTech ┆ null          ┆ 2        │\n",
      "│ 202104     ┆ 8ec034a1-50fc-4f70-ae69-0150f4… ┆ Coimbra ┆ VitaLife   ┆ null          ┆ 5        │\n",
      "│ 202104     ┆ 6810ed87-0840-4e9d-b64d-b68ce9… ┆ Lisboa  ┆ VitaLife   ┆ 7             ┆ 35       │\n",
      "│ 202104     ┆ 6194c31e-010c-45e8-b3a9-8213f3… ┆ Porto   ┆ HealthPlus ┆ 8             ┆ 35       │\n",
      "└────────────┴─────────────────────────────────┴─────────┴────────────┴───────────────┴──────────┘\n",
      "[Int64, String, String, String, Int64, Int64]\n"
     ]
    }
   ],
   "source": [
    "# 🔧 EJERCICIO\n",
    "import polars as pl\n",
    "\n",
    "# Carga el CSV del ejercicio a realizar\n",
    "url = \"https://raw.githubusercontent.com/abeltavares/nps_performance_analysis/main/NPS_data.csv\" \n",
    "nps = pl.read_csv(url)\n",
    "print(nps.head())\n",
    "print(nps.dtypes)\n"
   ]
  },
  {
   "cell_type": "code",
   "execution_count": 12,
   "id": "8b92500a",
   "metadata": {},
   "outputs": [
    {
     "name": "stdout",
     "output_type": "stream",
     "text": [
      "✅ ¡Buen trabajo! El DataFrame se cargó correctamente.\n"
     ]
    }
   ],
   "source": [
    "# ✅ VALIDACIÓN\n",
    "assert 'survey_result' in nps.columns, \"Falta la columna 'survey_result'\"\n",
    "assert nps.height > 0, \"El DataFrame está vacío\"\n",
    "print(\"✅ ¡Buen trabajo! El DataFrame se cargó correctamente.\")\n"
   ]
  },
  {
   "cell_type": "markdown",
   "id": "35d8c1e4",
   "metadata": {},
   "source": [
    "💡 **Reflexión**  \n",
    "¿Cuáles columnas son más relevantes para futuras segmentaciones de CX? Anota tus ideas para el proyecto maestro."
   ]
  },
  {
   "cell_type": "markdown",
   "id": "37865ec4",
   "metadata": {},
   "source": [
    "## 🔹 Reto 2 — Cálculo del NPS mensual\n",
    "\n",
    "| Paso | |\n",
    "|-----|-----|\n",
    "| 📋 **Tarea** | Calcular el Net Promoter Score por mes (`year_month`). |\n",
    "| 🎯 **Por qué lo haces** | El NPS mensual revela picos de insatisfacción para accionar mejoras rapidas. |\n",
    "| 🧠 **Lógica** | NPS = (Promotores − Detractores) / Total × 100. Promotor >8, Detractor <7. |\n"
   ]
  },
  {
   "cell_type": "code",
   "execution_count": null,
   "id": "4fce5c5c",
   "metadata": {},
   "outputs": [
    {
     "data": {
      "text/html": [
       "<div><style>\n",
       ".dataframe > thead > tr,\n",
       ".dataframe > tbody > tr {\n",
       "  text-align: right;\n",
       "  white-space: pre-wrap;\n",
       "}\n",
       "</style>\n",
       "<small>shape: (5, 6)</small><table border=\"1\" class=\"dataframe\"><thead><tr><th>year_month</th><th>patient_uuid</th><th>Region</th><th>Company</th><th>survey_result</th><th>sessions</th></tr><tr><td>i64</td><td>str</td><td>str</td><td>str</td><td>f64</td><td>i64</td></tr></thead><tbody><tr><td>202104</td><td>&quot;bf728334-f122-4070-ad90-6e95d9…</td><td>&quot;Lisboa&quot;</td><td>&quot;MedicoTech&quot;</td><td>10.0</td><td>2</td></tr><tr><td>202104</td><td>&quot;2930f901-69ca-4191-ac1e-04e837…</td><td>&quot;Porto&quot;</td><td>&quot;MedicoTech&quot;</td><td>9.0</td><td>2</td></tr><tr><td>202104</td><td>&quot;8ec034a1-50fc-4f70-ae69-0150f4…</td><td>&quot;Coimbra&quot;</td><td>&quot;VitaLife&quot;</td><td>9.0</td><td>5</td></tr><tr><td>202104</td><td>&quot;6810ed87-0840-4e9d-b64d-b68ce9…</td><td>&quot;Lisboa&quot;</td><td>&quot;VitaLife&quot;</td><td>7.0</td><td>35</td></tr><tr><td>202104</td><td>&quot;6194c31e-010c-45e8-b3a9-8213f3…</td><td>&quot;Porto&quot;</td><td>&quot;HealthPlus&quot;</td><td>8.0</td><td>35</td></tr></tbody></table></div>"
      ],
      "text/plain": [
       "shape: (5, 6)\n",
       "┌────────────┬─────────────────────────────────┬─────────┬────────────┬───────────────┬──────────┐\n",
       "│ year_month ┆ patient_uuid                    ┆ Region  ┆ Company    ┆ survey_result ┆ sessions │\n",
       "│ ---        ┆ ---                             ┆ ---     ┆ ---        ┆ ---           ┆ ---      │\n",
       "│ i64        ┆ str                             ┆ str     ┆ str        ┆ f64           ┆ i64      │\n",
       "╞════════════╪═════════════════════════════════╪═════════╪════════════╪═══════════════╪══════════╡\n",
       "│ 202104     ┆ bf728334-f122-4070-ad90-6e95d9… ┆ Lisboa  ┆ MedicoTech ┆ 10.0          ┆ 2        │\n",
       "│ 202104     ┆ 2930f901-69ca-4191-ac1e-04e837… ┆ Porto   ┆ MedicoTech ┆ 9.0           ┆ 2        │\n",
       "│ 202104     ┆ 8ec034a1-50fc-4f70-ae69-0150f4… ┆ Coimbra ┆ VitaLife   ┆ 9.0           ┆ 5        │\n",
       "│ 202104     ┆ 6810ed87-0840-4e9d-b64d-b68ce9… ┆ Lisboa  ┆ VitaLife   ┆ 7.0           ┆ 35       │\n",
       "│ 202104     ┆ 6194c31e-010c-45e8-b3a9-8213f3… ┆ Porto   ┆ HealthPlus ┆ 8.0           ┆ 35       │\n",
       "└────────────┴─────────────────────────────────┴─────────┴────────────┴───────────────┴──────────┘"
      ]
     },
     "execution_count": 42,
     "metadata": {},
     "output_type": "execute_result"
    }
   ],
   "source": [
    "# Realizamos imputación de los valores nulos en la columna 'survey_result'\n",
    "# con la mediana de los valores existentes.\n",
    "nps = nps.with_columns(pl.col(\"survey_result\").fill_null(pl.col(\"survey_result\").median()))\n",
    "nps.head()"
   ]
  },
  {
   "cell_type": "code",
   "execution_count": 107,
   "id": "7f049b5e",
   "metadata": {},
   "outputs": [
    {
     "name": "stdout",
     "output_type": "stream",
     "text": [
      "shape: (9, 8)\n",
      "┌────────────┬───────┬────────────┬─────────────┬───────┬──────┬──────────────┬───────────────┐\n",
      "│ year_month ┆ total ┆ promotores ┆ detractores ┆ media ┆ nps  ┆ %_promotores ┆ %_detractores │\n",
      "│ ---        ┆ ---   ┆ ---        ┆ ---         ┆ ---   ┆ ---  ┆ ---          ┆ ---           │\n",
      "│ i64        ┆ u32   ┆ u32        ┆ u32         ┆ f64   ┆ f64  ┆ f64          ┆ f64           │\n",
      "╞════════════╪═══════╪════════════╪═════════════╪═══════╪══════╪══════════════╪═══════════════╡\n",
      "│ 202104     ┆ 599   ┆ 514        ┆ 85          ┆ 8.31  ┆ 71.6 ┆ 85.8         ┆ 14.2          │\n",
      "│ 202105     ┆ 1219  ┆ 1011       ┆ 208         ┆ 8.16  ┆ 65.9 ┆ 82.9         ┆ 17.1          │\n",
      "│ 202106     ┆ 896   ┆ 756        ┆ 140         ┆ 8.2   ┆ 68.8 ┆ 84.4         ┆ 15.6          │\n",
      "│ 202107     ┆ 1026  ┆ 891        ┆ 135         ┆ 8.35  ┆ 73.7 ┆ 86.8         ┆ 13.2          │\n",
      "│ 202108     ┆ 800   ┆ 694        ┆ 106         ┆ 8.37  ┆ 73.5 ┆ 86.8         ┆ 13.2          │\n",
      "│ 202109     ┆ 467   ┆ 410        ┆ 57          ┆ 8.46  ┆ 75.6 ┆ 87.8         ┆ 12.2          │\n",
      "│ 202110     ┆ 430   ┆ 370        ┆ 60          ┆ 8.35  ┆ 72.1 ┆ 86.0         ┆ 14.0          │\n",
      "│ 202111     ┆ 252   ┆ 231        ┆ 21          ┆ 8.61  ┆ 83.3 ┆ 91.7         ┆ 8.3           │\n",
      "│ 202112     ┆ 326   ┆ 290        ┆ 36          ┆ 8.43  ┆ 77.9 ┆ 89.0         ┆ 11.0          │\n",
      "└────────────┴───────┴────────────┴─────────────┴───────┴──────┴──────────────┴───────────────┘\n"
     ]
    }
   ],
   "source": [
    "\n",
    "monthly_nps = (\n",
    "    nps\n",
    "    .group_by(\"year_month\") # Agrupamos por mes\n",
    "    .agg([\n",
    "        pl.len().alias(\"total\"), # Contamos el total de respuestas\n",
    "        pl.col(\"survey_result\").filter(pl.col(\"survey_result\") >= 7).len().alias(\"promotores\"), # Contamos los promotores (>= 7)\n",
    "        pl.col(\"survey_result\").filter(pl.col(\"survey_result\") < 7).len().alias(\"detractores\"), # Contamos los detractores (< 7)\n",
    "        pl.col(\"survey_result\").mean().alias(\"media\").round(2), # Calculamos la media de las respuestas\n",
    "    ]).sort(\"year_month\", descending=False)\n",
    "    .with_columns(\n",
    "        ((pl.col(\"promotores\") - pl.col(\"detractores\"))*100/pl.col(\"total\")).round(1).alias(\"nps\"), # Calculamos el NPS en %\n",
    "        (pl.col(\"promotores\") / pl.col(\"total\") * 100).alias(\"%_promotores\").round(1), # Porcentaje de promotores\n",
    "        (pl.col(\"detractores\") / pl.col(\"total\") * 100).alias(\"%_detractores\").round(1) # Porcentaje de detractores\n",
    "    )\n",
    ")\n",
    "\n",
    "print(monthly_nps)"
   ]
  },
  {
   "cell_type": "code",
   "execution_count": 108,
   "id": "b5bdf6a8",
   "metadata": {},
   "outputs": [
    {
     "name": "stdout",
     "output_type": "stream",
     "text": [
      "✅ ¡Buen trabajo! NPS mensual calculado.\n"
     ]
    }
   ],
   "source": [
    "# ✅ VALIDACIÓN\n",
    "# Verifica que la columna 'nps' esté en el DataFrame y que sus valores estén entre -100 y 100\n",
    "assert 'nps' in monthly_nps.columns, \"No se creó la métrica 'nps'\"\n",
    "assert monthly_nps['nps'].min() >= -100 and monthly_nps['nps'].max() <= 100, \"Valores NPS fuera de rango\"\n",
    "print(\"✅ ¡Buen trabajo! NPS mensual calculado.\")\n"
   ]
  },
  {
   "cell_type": "markdown",
   "id": "a45b7164",
   "metadata": {},
   "source": [
    "💡 **Reflexión**  \n",
    "¿Observas algún mes con NPS < 0? ¿Qué hipótesis de negocio explicarían esa caída y cómo las validarías?"
   ]
  },
  {
   "cell_type": "markdown",
   "id": "fe9013d9",
   "metadata": {},
   "source": [
    "## 🔹 Reto 3 — Segmentar NPS por tipo de visita\n",
    "\n",
    "| Paso | |\n",
    "|-----|-----|\n",
    "| 📋 **Tarea** | Determinar si el NPS de los pacientes difieren por `Region`. |\n",
    "| 🎯 **Por qué lo haces** | Diferentes journeys producen expectativas distintas; segmentar revela oportunidades específicas. |\n",
    "| 🧠 **Lógica** | Filtrar y agrupar por columna `Region`. |\n"
   ]
  },
  {
   "cell_type": "code",
   "execution_count": 116,
   "id": "073a4b56",
   "metadata": {},
   "outputs": [
    {
     "data": {
      "text/html": [
       "<div><style>\n",
       ".dataframe > thead > tr,\n",
       ".dataframe > tbody > tr {\n",
       "  text-align: right;\n",
       "  white-space: pre-wrap;\n",
       "}\n",
       "</style>\n",
       "<small>shape: (3, 5)</small><table border=\"1\" class=\"dataframe\"><thead><tr><th>Region</th><th>total</th><th>promotores</th><th>detractores</th><th>nps</th></tr><tr><td>str</td><td>u32</td><td>u32</td><td>u32</td><td>f64</td></tr></thead><tbody><tr><td>&quot;Coimbra&quot;</td><td>1506</td><td>1304</td><td>202</td><td>73.2</td></tr><tr><td>&quot;Lisboa&quot;</td><td>2978</td><td>2558</td><td>420</td><td>71.8</td></tr><tr><td>&quot;Porto&quot;</td><td>1531</td><td>1305</td><td>226</td><td>70.5</td></tr></tbody></table></div>"
      ],
      "text/plain": [
       "shape: (3, 5)\n",
       "┌─────────┬───────┬────────────┬─────────────┬──────┐\n",
       "│ Region  ┆ total ┆ promotores ┆ detractores ┆ nps  │\n",
       "│ ---     ┆ ---   ┆ ---        ┆ ---         ┆ ---  │\n",
       "│ str     ┆ u32   ┆ u32        ┆ u32         ┆ f64  │\n",
       "╞═════════╪═══════╪════════════╪═════════════╪══════╡\n",
       "│ Coimbra ┆ 1506  ┆ 1304       ┆ 202         ┆ 73.2 │\n",
       "│ Lisboa  ┆ 2978  ┆ 2558       ┆ 420         ┆ 71.8 │\n",
       "│ Porto   ┆ 1531  ┆ 1305       ┆ 226         ┆ 70.5 │\n",
       "└─────────┴───────┴────────────┴─────────────┴──────┘"
      ]
     },
     "execution_count": 116,
     "metadata": {},
     "output_type": "execute_result"
    }
   ],
   "source": [
    "\n",
    "# Calculamos el NPS segmentado por región\n",
    "segment_nps = (\n",
    "    nps\n",
    "    .group_by(\"Region\")\n",
    "    .agg([\n",
    "        pl.len().alias(\"total\"),\n",
    "        pl.col(\"survey_result\").filter(pl.col(\"survey_result\") >= 7).len().alias(\"promotores\"),\n",
    "        pl.col(\"survey_result\").filter(pl.col(\"survey_result\") < 7).len().alias(\"detractores\")\n",
    "    ])\n",
    "    .with_columns(\n",
    "        ((pl.col(\"promotores\") - pl.col(\"detractores\")) / pl.col(\"total\") * 100).round(1).alias(\"nps\")\n",
    "    )\n",
    ")\n",
    "\n",
    "segment_nps\n"
   ]
  },
  {
   "cell_type": "markdown",
   "id": "ff5205f2",
   "metadata": {},
   "source": [
    "La `Region` de Coimbra presenta el mejor NPS."
   ]
  },
  {
   "cell_type": "code",
   "execution_count": 118,
   "id": "04f9bfd4",
   "metadata": {},
   "outputs": [
    {
     "name": "stdout",
     "output_type": "stream",
     "text": [
      "✅ ¡Buen trabajo! NPS segmentado por tipo de visita.\n"
     ]
    }
   ],
   "source": [
    "# ✅ VALIDACIÓN\n",
    "assert 'nps' in segment_nps.columns, \"No se calculó NPS por segmento\"\n",
    "assert len(segment_nps) >= 2, \"Deben existir al menos dos tipos de visita\"\n",
    "print(\"✅ ¡Buen trabajo! NPS segmentado por tipo de visita.\")\n"
   ]
  },
  {
   "cell_type": "markdown",
   "id": "cc3da1fb",
   "metadata": {},
   "source": [
    "💡 **Reflexión**  \n",
    "¿Qué acciones CX priorizarías para el segmento con peor NPS? Escribe dos ideas rápidas en tu cuaderno."
   ]
  }
 ],
 "metadata": {
  "kernelspec": {
   "display_name": "base",
   "language": "python",
   "name": "python3"
  },
  "language_info": {
   "codemirror_mode": {
    "name": "ipython",
    "version": 3
   },
   "file_extension": ".py",
   "mimetype": "text/x-python",
   "name": "python",
   "nbconvert_exporter": "python",
   "pygments_lexer": "ipython3",
   "version": "3.12.7"
  }
 },
 "nbformat": 4,
 "nbformat_minor": 5
}
