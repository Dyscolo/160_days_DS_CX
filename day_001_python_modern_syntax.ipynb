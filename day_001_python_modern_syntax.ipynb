{
 "cells": [
  {
   "cell_type": "markdown",
   "id": "d8c34004",
   "metadata": {},
   "source": [
    "# Día 001 – Sintaxis moderna de Python 🐍  \n",
    "### Ruta *Customer Experience (CX) + Data Science*\n",
    "\n",
    "Trabajaremos en **6 retos prácticos** + un mini‑reto integrador, aplicando la sintaxis moderna de Python a problemas típicos de **Customer Experience (CX)**.\n",
    "\n",
    "Cada reto incluye:\n",
    "\n",
    "| Icono | Sección | Propósito |\n",
    "|-------|---------|-----------|\n",
    "| 📋 | **Tarea** | Qué debes construir (paso a paso). |\n",
    "| 🎯 | **Por qué lo haces** | Impacto real en CX / DS. |\n",
    "| 🧠 | **Lógica** | Breve razonamiento detrás del código. |\n",
    "| 🔧 | **Ejercicio** | Celda con `TODO:` para escribir tu solución. |\n",
    "| ✅ | **Validación** | Pruebas automáticas; busca el “✅”. |\n",
    "| 💡 | **Reflexión** | Cierre sobre la utilidad en tu futuro proyecto. |\n",
    "\n",
    "> **Metodología TDAH**  \n",
    "> Completa un reto → ejecuta la celda de validación → toma una pausa breve → continúa.\n"
   ]
  },
  {
   "cell_type": "markdown",
   "id": "d9e0d829",
   "metadata": {},
   "source": [
    "## Reto 1: Variables y tipos\n",
    "\n",
    "**📋 Tarea**  \n",
    "Modela los atributos básicos de un cliente: nombre, edad, puntaje NPS y estado de suscripción.\n",
    "\n",
    "**🎯 Por qué lo haces**  \n",
    "Elegir el **tipo de dato correcto** previene errores al calcular KPIs o filtrar segmentos.\n",
    "\n",
    "**🧠 Lógica**  \n",
    "Asigna `str`, `int`, `float`, `bool` respectivamente para asegurar compatibilidad con librerías de análisis.\n"
   ]
  },
  {
   "cell_type": "code",
   "execution_count": 9,
   "id": "3ec4ee12",
   "metadata": {},
   "outputs": [
    {
     "name": "stdout",
     "output_type": "stream",
     "text": [
      "Bryan Morales <class 'str'>\n",
      "28 <class 'int'>\n",
      "9.5 <class 'float'>\n",
      "True <class 'bool'>\n"
     ]
    }
   ],
   "source": [
    "\"\"\"markdown\n",
    "Declara las variables `cliente_nombre`, `cliente_edad`, `cliente_nps`, `cliente_suscrito` y muestra cada valor con su `type()`.\n",
    "\"\"\"\n",
    "\n",
    "# TODO: tu código aquí\n",
    "\n",
    "cliente_nombre = 'Bryan Morales'\n",
    "cliente_edad = 28\n",
    "cliente_nps = 9.5\n",
    "cliente_suscrito = True\n",
    "\n",
    "print(cliente_nombre, type(cliente_nombre))\n",
    "print(cliente_edad, type(cliente_edad))\n",
    "print(cliente_nps, type(cliente_nps))\n",
    "print(cliente_suscrito, type(cliente_suscrito))"
   ]
  },
  {
   "cell_type": "code",
   "execution_count": null,
   "id": "c53ae52d",
   "metadata": {},
   "outputs": [],
   "source": [
    "# --- SOLUCIÓN (no borrar) ---\n",
    "# cliente_nombre = \"Bryan\"\n",
    "# cliente_edad = 27\n",
    "# cliente_nps = 9.0\n",
    "# cliente_suscrito = True\n",
    "#\n",
    "# print(cliente_nombre, type(cliente_nombre))\n",
    "# print(cliente_edad, type(cliente_edad))\n",
    "# print(cliente_nps, type(cliente_nps))\n",
    "# print(cliente_suscrito, type(cliente_suscrito))"
   ]
  },
  {
   "cell_type": "code",
   "execution_count": 10,
   "id": "b66bdac6",
   "metadata": {},
   "outputs": [
    {
     "name": "stdout",
     "output_type": "stream",
     "text": [
      "✅ ¡Buen trabajo!\n"
     ]
    }
   ],
   "source": [
    "\n",
    "try:\n",
    "    assert isinstance(cliente_nombre, str)\n",
    "    assert isinstance(cliente_edad, int)\n",
    "    assert isinstance(cliente_nps, float)\n",
    "    assert isinstance(cliente_suscrito, bool)\n",
    "    print(\"✅ ¡Buen trabajo!\")\n",
    "except AssertionError as e:\n",
    "    print(f\"❌ {e}\")\n"
   ]
  },
  {
   "cell_type": "markdown",
   "id": "3aecd49a",
   "metadata": {},
   "source": [
    "_💡 Reflexión:_ Usar los tipos adecuados te ahorra depuración cuando escales a bases de datos reales."
   ]
  },
  {
   "cell_type": "markdown",
   "id": "72b5b771",
   "metadata": {},
   "source": [
    "## Reto 2: Operadores y f‑strings\n",
    "\n",
    "**📋 Tarea**  \n",
    "Construye un mensaje de agradecimiento personalizado con los datos del Reto 1.\n",
    "\n",
    "**🎯 Por qué lo haces**  \n",
    "Los mensajes dinámicos mejoran la percepción de cercanía con el cliente.\n",
    "\n",
    "**🧠 Lógica**  \n",
    "Utiliza un *f‑string* para insertar variables directamente sin concatenaciones verbosas.\n"
   ]
  },
  {
   "cell_type": "code",
   "execution_count": 15,
   "id": "7caa3f9c",
   "metadata": {},
   "outputs": [
    {
     "name": "stdout",
     "output_type": "stream",
     "text": [
      "Bryan Morales, ¡gracias por tu feedback! Tu NPS fue 9.5. Tu edad es 28 y estás suscrito: True.\n"
     ]
    }
   ],
   "source": [
    "\"\"\"markdown\n",
    "Crea `mensaje` con el formato:\n",
    "`Hola <cliente_nombre>, ¡gracias por tu feedback! Tu NPS fue <cliente_nps>.` e imprímelo.\n",
    "\"\"\"\n",
    "mensaje = f\"{cliente_nombre}, ¡gracias por tu feedback! Tu NPS fue {cliente_nps}. Tu edad es {cliente_edad} y estás suscrito: {cliente_suscrito}.\"\n",
    "print(mensaje)\n",
    "# TODO: tu código aquí"
   ]
  },
  {
   "cell_type": "code",
   "execution_count": null,
   "id": "9dc49298",
   "metadata": {},
   "outputs": [],
   "source": [
    "# --- SOLUCIÓN (no borrar) ---\n",
    "# mensaje = f\"Hola {cliente_nombre}, ¡gracias por tu feedback! Tu NPS fue {cliente_nps}.\"\n",
    "# print(mensaje)"
   ]
  },
  {
   "cell_type": "code",
   "execution_count": 16,
   "id": "361d1fd7",
   "metadata": {},
   "outputs": [
    {
     "name": "stdout",
     "output_type": "stream",
     "text": [
      "✅ ¡Buen trabajo!\n"
     ]
    }
   ],
   "source": [
    "\n",
    "try:\n",
    "    assert 'mensaje' in globals() and isinstance(mensaje, str)\n",
    "    assert str(cliente_nps) in mensaje\n",
    "    print(\"✅ ¡Buen trabajo!\")\n",
    "except AssertionError as e:\n",
    "    print(f\"❌ {e}\")\n"
   ]
  },
  {
   "cell_type": "markdown",
   "id": "0710eb68",
   "metadata": {},
   "source": [
    "_💡 Reflexión:_ Dominar *f‑strings* acelera la generación de reportes y notificaciones."
   ]
  },
  {
   "cell_type": "markdown",
   "id": "3f92c243",
   "metadata": {},
   "source": [
    "## Reto 3: Estructuras de datos – Diccionario\n",
    "\n",
    "**📋 Tarea**  \n",
    "Agrupa la información del cliente y su comentario en un diccionario `feedback`.\n",
    "\n",
    "**🎯 Por qué lo haces**  \n",
    "Los diccionarios pueden serializarse a JSON, formato común en APIs de CX.\n",
    "\n",
    "**🧠 Lógica**  \n",
    "Almacena datos clave‑valor para acceder de forma explícita por nombre de campo.\n"
   ]
  },
  {
   "cell_type": "code",
   "execution_count": 21,
   "id": "96ef4d4d",
   "metadata": {},
   "outputs": [
    {
     "name": "stdout",
     "output_type": "stream",
     "text": [
      "{'nombre': 'Bryan Morales', 'nps': 9.5, 'comentario': 'Entrega muy rápida'}\n",
      "dict_keys(['nombre', 'nps', 'comentario'])\n"
     ]
    }
   ],
   "source": [
    "\"\"\"markdown\n",
    "Crea `feedback` con las claves `nombre`, `nps`, `comentario='Entrega muy rápida'` y luego imprime el dict y sus claves.\n",
    "\"\"\"\n",
    "\n",
    "# TODO: tu código aquí\n",
    "\n",
    "feedback = {\n",
    "    'nombre': cliente_nombre,\n",
    "    'nps': cliente_nps,\n",
    "    'comentario': 'Entrega muy rápida'\n",
    "}\n",
    "\n",
    "print(feedback)\n",
    "print(feedback.keys())"
   ]
  },
  {
   "cell_type": "code",
   "execution_count": null,
   "id": "2279d7a6",
   "metadata": {},
   "outputs": [],
   "source": [
    "# --- SOLUCIÓN (no borrar) ---\n",
    "# feedback = {\n",
    "#     \"nombre\": cliente_nombre,\n",
    "#     \"nps\": cliente_nps,\n",
    "#     \"comentario\": \"Entrega muy rápida\"\n",
    "# }\n",
    "# print(feedback)\n",
    "# print(list(feedback.keys()))"
   ]
  },
  {
   "cell_type": "code",
   "execution_count": 22,
   "id": "7d9b5b0f",
   "metadata": {},
   "outputs": [
    {
     "name": "stdout",
     "output_type": "stream",
     "text": [
      "✅ ¡Buen trabajo!\n"
     ]
    }
   ],
   "source": [
    "\n",
    "try:\n",
    "    assert isinstance(feedback, dict)\n",
    "    assert set(feedback.keys()) == {\"nombre\", \"nps\", \"comentario\"}\n",
    "    print(\"✅ ¡Buen trabajo!\")\n",
    "except AssertionError as e:\n",
    "    print(f\"❌ {e}\")\n"
   ]
  },
  {
   "cell_type": "markdown",
   "id": "edaa2b56",
   "metadata": {},
   "source": [
    "_💡 Reflexión:_ Así podrás enviar feedback a tu pipeline de datos o almacén NoSQL."
   ]
  },
  {
   "cell_type": "markdown",
   "id": "67d32aee",
   "metadata": {},
   "source": [
    "## Reto 4: Control de flujo – Clasificación NPS\n",
    "\n",
    "**📋 Tarea**  \n",
    "Clasifica al cliente en Promotor, Pasivo o Detractor según su NPS.\n",
    "\n",
    "**🎯 Por qué lo haces**  \n",
    "La clasificación permite disparar acciones de retención o upselling en tiempo real.\n",
    "\n",
    "**🧠 Lógica**  \n",
    "Usa `if/elif/else` para evaluar rangos de NPS y asignar la categoría correcta.\n"
   ]
  },
  {
   "cell_type": "code",
   "execution_count": 24,
   "id": "303072c7",
   "metadata": {},
   "outputs": [
    {
     "name": "stdout",
     "output_type": "stream",
     "text": [
      "Promotor\n"
     ]
    }
   ],
   "source": [
    "\"\"\"markdown\n",
    "Implementa la lógica: `>=9` → Promotor, `>=7` → Pasivo, otro → Detractor. Imprime `categoria`.\n",
    "\"\"\"\n",
    "\n",
    "# TODO: tu código aquí\n",
    "\n",
    "if cliente_nps >= 9:\n",
    "    categoria = \"Promotor\"\n",
    "elif cliente_nps >= 7:\n",
    "    categoria = \"Pasivo\"\n",
    "else:\n",
    "    categoria = \"Detractor\"\n",
    "\n",
    "print(categoria)"
   ]
  },
  {
   "cell_type": "code",
   "execution_count": null,
   "id": "503af351",
   "metadata": {},
   "outputs": [],
   "source": [
    "# --- SOLUCIÓN (no borrar) ---\n",
    "# if cliente_nps >= 9:\n",
    "#     categoria = \"Promotor\"\n",
    "# elif cliente_nps >= 7:\n",
    "#     categoria = \"Pasivo\"\n",
    "# else:\n",
    "#     categoria = \"Detractor\"\n",
    "# print(categoria)"
   ]
  },
  {
   "cell_type": "code",
   "execution_count": 25,
   "id": "db97fd2a",
   "metadata": {},
   "outputs": [
    {
     "name": "stdout",
     "output_type": "stream",
     "text": [
      "✅ ¡Buen trabajo!\n"
     ]
    }
   ],
   "source": [
    "\n",
    "try:\n",
    "    assert categoria in {\"Promotor\", \"Pasivo\", \"Detractor\"}\n",
    "    print(\"✅ ¡Buen trabajo!\")\n",
    "except AssertionError as e:\n",
    "    print(f\"❌ {e}\")\n"
   ]
  },
  {
   "cell_type": "markdown",
   "id": "eb5ca27f",
   "metadata": {},
   "source": [
    "_💡 Reflexión:_ Esta lógica forma la base de dashboards de satisfacción en vivo."
   ]
  },
  {
   "cell_type": "markdown",
   "id": "26fcaf08",
   "metadata": {},
   "source": [
    "## Reto 5: Funciones reutilizables\n",
    "\n",
    "**📋 Tarea**  \n",
    "Encapsula la clasificación NPS en la función `clasificar_nps(score)` y úsala sobre varios puntajes.\n",
    "\n",
    "**🎯 Por qué lo haces**  \n",
    "Las funciones evitan duplicar código y facilitan el testeo de reglas de negocio.\n",
    "\n",
    "**🧠 Lógica**  \n",
    "Definir la lógica una sola vez y reusarla con diferentes entradas.\n"
   ]
  },
  {
   "cell_type": "code",
   "execution_count": null,
   "id": "99e721f1",
   "metadata": {},
   "outputs": [
    {
     "name": "stdout",
     "output_type": "stream",
     "text": [
      "Score: 10, Categoría: Promotor\n",
      "Score: 8, Categoría: Pasivo\n",
      "Score: 6, Categoría: Detractor\n"
     ]
    }
   ],
   "source": [
    "\"\"\"markdown\n",
    "Define `clasificar_nps` y recorre `[10, 8, 6]` imprimiendo `score` y categoría.\n",
    "\"\"\"\n",
    "\n",
    "# TODO: tu código aquí\n",
    "\n",
    "def clasificar_nps(score):\n",
    "    if score >= 9:\n",
    "        return \"Promotor\"\n",
    "    elif score >= 7:\n",
    "        return \"Pasivo\"\n",
    "    else:\n",
    "        return \"Detractor\"\n",
    "    \n",
    "for score in [10, 8, 6]:\n",
    "    categoria = clasificar_nps(score)\n",
    "    print(f\"Score: {score}, Categoría: {categoria}\")    \n"
   ]
  },
  {
   "cell_type": "code",
   "execution_count": null,
   "id": "fb61fc8c",
   "metadata": {},
   "outputs": [],
   "source": [
    "# --- SOLUCIÓN (no borrar) ---\n",
    "# def clasificar_nps(score: float) -> str:\n",
    "#     if score >= 9:\n",
    "#         return \"Promotor\"\n",
    "#     elif score >= 7:\n",
    "#         return \"Pasivo\"\n",
    "#     return \"Detractor\"\n",
    "#\n",
    "# for s in {10, 8, 6]:\n",
    "#     print(s, clasificar_nps(s))"
   ]
  },
  {
   "cell_type": "code",
   "execution_count": 31,
   "id": "e26029e3",
   "metadata": {},
   "outputs": [
    {
     "name": "stdout",
     "output_type": "stream",
     "text": [
      "✅ ¡Buen trabajo!\n"
     ]
    }
   ],
   "source": [
    "\n",
    "try:\n",
    "    assert clasificar_nps(10) == \"Promotor\"\n",
    "    assert clasificar_nps(8) == \"Pasivo\"\n",
    "    assert clasificar_nps(5) == \"Detractor\"\n",
    "    print(\"✅ ¡Buen trabajo!\")\n",
    "except AssertionError as e:\n",
    "    print(f\"❌ {e}\")\n"
   ]
  },
  {
   "cell_type": "markdown",
   "id": "22417d32",
   "metadata": {},
   "source": [
    "_💡 Reflexión:_ Mañana aplicarás esta función a columnas enteras de un DataFrame."
   ]
  },
  {
   "cell_type": "markdown",
   "id": "5fb5a2a2",
   "metadata": {},
   "source": [
    "## Reto 6: List comprehensions – Etiquetado CSAT\n",
    "\n",
    "**📋 Tarea**  \n",
    "Etiqueta los puntajes CSAT `{5,9,4,10,7]` como `Alto`, `Medio` o `Bajo`.\n",
    "\n",
    "**🎯 Por qué lo haces**  \n",
    "Las *list comprehensions* son concisas y más rápidas que bucles tradicionales.\n",
    "\n",
    "**🧠 Lógica**  \n",
    "Utiliza una expresión condicional inline para cada elemento.\n"
   ]
  },
  {
   "cell_type": "code",
   "execution_count": 51,
   "id": "5d1c45de",
   "metadata": {},
   "outputs": [
    {
     "name": "stdout",
     "output_type": "stream",
     "text": [
      "['Medio', 'Alto', 'Bajo', 'Alto', 'Medio']\n"
     ]
    }
   ],
   "source": [
    "\"\"\"markdown\n",
    "Genera la lista `csat_etiquetas` e imprímela.\n",
    "\"\"\"\n",
    "\n",
    "# TODO: tu código aquí\n",
    "\n",
    "csat_scores = [5, 9 , 4, 10 ,7]\n",
    "csat_etiquetas = [\n",
    "    \"Alto\" if score >= 9 else \"Medio\" if score >= 5 else \"Bajo\"\n",
    "    for score in csat_scores\n",
    "]\n",
    "print(csat_etiquetas)"
   ]
  },
  {
   "cell_type": "code",
   "execution_count": null,
   "id": "da6d6b34",
   "metadata": {},
   "outputs": [],
   "source": [
    "# --- SOLUCIÓN (no borrar) ---\n",
    "# csat_scores = [5, 9, 4, 10, 7]\n",
    "# csat_etiquetas = [\n",
    "#     \"Alto\" if s >= 8 else \"Medio\" if s >= 5 else \"Bajo\"\n",
    "#     for s in csat_scores\n",
    "# ]\n",
    "# print(csat_etiquetas)"
   ]
  },
  {
   "cell_type": "code",
   "execution_count": 41,
   "id": "5aa04a34",
   "metadata": {},
   "outputs": [
    {
     "name": "stdout",
     "output_type": "stream",
     "text": [
      "✅ ¡Buen trabajo!\n"
     ]
    }
   ],
   "source": [
    "\n",
    "try:\n",
    "    assert csat_etiquetas == [\"Medio\", \"Alto\", \"Bajo\", \"Alto\", \"Medio\"]\n",
    "    print(\"✅ ¡Buen trabajo!\")\n",
    "except AssertionError as e:\n",
    "    print(f\"❌ {e}\")\n"
   ]
  },
  {
   "cell_type": "markdown",
   "id": "6d93c8d3",
   "metadata": {},
   "source": [
    "_💡 Reflexión:_ Ideal para segmentar rápidamente antes de un modelo de churn."
   ]
  },
  {
   "cell_type": "markdown",
   "id": "74fedc7b",
   "metadata": {},
   "source": [
    "## Mini‑reto integrador 🚀\n",
    "\n",
    "**📋 Tarea**  \n",
    "A partir de una lista de 10 feedbacks (nombre + nps), filtra los **promotores**, muestra el total y sus nombres.\n",
    "\n",
    "**🎯 Por qué lo haces**  \n",
    "Reúnes todas las habilidades: diccionarios, función de clasificación y list comprehension.\n",
    "\n",
    "**🧠 Lógica**  \n",
    "1. Modela cada feedback como un diccionario.  \n",
    "2. Reutiliza `clasificar_nps()`.  \n",
    "3. Filtra con list comprehension.  \n",
    "4. Imprime resultados.\n"
   ]
  },
  {
   "cell_type": "code",
   "execution_count": 54,
   "id": "b67f6bc3",
   "metadata": {},
   "outputs": [
    {
     "name": "stdout",
     "output_type": "stream",
     "text": [
      "Total promotores: 1\n",
      "['Bryan Morales']\n"
     ]
    }
   ],
   "source": [
    "# TODO: resuelve el mini‑reto aquí\n",
    "\n",
    "feedback = [\n",
    "    {\"nombre\": \"Bryan Morales\", \"nps\": 9.5, \"comentario\": \"Excelente servicio\"},\n",
    "    {\"nombre\": \"Ana Pérez\", \"nps\": 7.0, \"comentario\": \"Muy buena atención\"},\n",
    "    {\"nombre\": \"Luis García\", \"nps\": 5.5, \"comentario\": \"Servicio aceptable\"},\n",
    "    {\"nombre\": \"María López\", \"nps\": 3.0, \"comentario\": \"Muy insatisfecha\"},\n",
    "    {\"nombre\": \"Carlos Sánchez\", \"nps\": 8.0, \"comentario\": \"Buen servicio, pero puede mejorar\"},\n",
    "    {\"nombre\": \"Laura Fernández\", \"nps\": 6.5, \"comentario\": \"Aceptable, pero con margen de mejora\"},\n",
    "    {\"nombre\": \"Javier Torres\", \"nps\": 4.0, \"comentario\": \"No estoy satisfecho con el servicio\"}\n",
    "\n",
    "]\n",
    "\n",
    "promotores = [f[\"nombre\"] for f in feedback if clasificar_nps(f[\"nps\"]) == \"Promotor\"]\n",
    "print(f\"Total promotores: {len(promotores)}\")\n",
    "print(promotores)"
   ]
  },
  {
   "cell_type": "code",
   "execution_count": null,
   "id": "37a1f30a",
   "metadata": {},
   "outputs": [],
   "source": [
    "# --- SOLUCIÓN (no borrar) ---\n",
    "# feedbacks = [\n",
    "#     {\"nombre\": \"Ana\", \"nps\": 10}, {\"nombre\": \"Luis\", \"nps\": 7},\n",
    "#     {\"nombre\": \"Sara\", \"nps\": 9}, {\"nombre\": \"Pedro\", \"nps\": 6},\n",
    "#     {\"nombre\": \"Marta\", \"nps\": 10}, {\"nombre\": \"Jorge\", \"nps\": 8},\n",
    "#     {\"nombre\": \"Lucía\", \"nps\": 9}, {\"nombre\": \"Juan\", \"nps\": 5},\n",
    "#     {\"nombre\": \"Elena\", \"nps\": 9}, {\"nombre\": \"Carlos\", \"nps\": 4}\n",
    "# ]\n",
    "#\n",
    "# promotores = [f[\"nombre\"] for f in feedbacks if clasificar_nps(f[\"nps\"]) == \"Promotor\"]\n",
    "# print(f\"Total promotores: {len(promotores)}\")\n",
    "# print(promotores)"
   ]
  },
  {
   "cell_type": "code",
   "execution_count": 55,
   "id": "ef30fb10",
   "metadata": {},
   "outputs": [
    {
     "name": "stdout",
     "output_type": "stream",
     "text": [
      "✅ ¡Reto superado!\n"
     ]
    }
   ],
   "source": [
    "\n",
    "try:\n",
    "    assert 'promotores' in globals() and isinstance(promotores, list)\n",
    "    assert len(promotores) > 0\n",
    "    print(\"✅ ¡Reto superado!\")\n",
    "except AssertionError as e:\n",
    "    print(f\"❌ {e}\")\n"
   ]
  },
  {
   "cell_type": "markdown",
   "id": "a46223e4",
   "metadata": {},
   "source": [
    "### Conclusión del día ✨\n",
    "\n",
    "¡Has completado los fundamentos de Python aplicados a CX!  \n",
    "Mañana nos sumergiremos en **pandas** para analizar datasets reales de satisfacción y feedback."
   ]
  }
 ],
 "metadata": {
  "kernelspec": {
   "display_name": "base",
   "language": "python",
   "name": "python3"
  },
  "language_info": {
   "codemirror_mode": {
    "name": "ipython",
    "version": 3
   },
   "file_extension": ".py",
   "mimetype": "text/x-python",
   "name": "python",
   "nbconvert_exporter": "python",
   "pygments_lexer": "ipython3",
   "version": "3.12.7"
  }
 },
 "nbformat": 4,
 "nbformat_minor": 5
}
