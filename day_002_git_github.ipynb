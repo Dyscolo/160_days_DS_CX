{
 "cells": [
  {
   "cell_type": "markdown",
   "id": "d2bd0ed4",
   "metadata": {},
   "source": [
    "# 📚 Día&nbsp;2 — Git & GitHub Básico  \n",
    "<small>(Proyecto **160 Days DS CX**, @Dyscolo)</small>\n",
    "\n",
    "---\n",
    "\n",
    "### 🗺️ Mini‑ruta de aprendizaje\n",
    "- **Día 1:** Primer notebook en Python & EDA básica  \n",
    "- **Día 2:** _→ Control de versiones con Git & GitHub (este notebook)_  \n",
    "- **Día 3:** Estadística descriptiva aplicada a CX\n",
    "\n",
    "---\n",
    "\n",
    "### 🔍 ¿Qué lograrás hoy?\n",
    "1. Configurar tu identidad de Git  \n",
    "2. Inicializar el repositorio local y crear tu primer commit  \n",
    "3. Conectar el repo remoto en GitHub y subir tus cambios (`push`)  \n",
    "4. Etiquetar la versión `v0.1-day-2` y publicarla  \n",
    "5. _(Bonus)_ Generar invitación `.ics` para tu calendario\n",
    "\n",
    "> **🧠 Mapa mental rápido**  \n",
    "> Git = **foto** de tu proyecto → GitHub = **nube** pública de tus fotos  \n",
    "> Commit = “clic” 📸 &emsp; Push = “subir” ☁️ &emsp; Tag = “marcar” 🔖\n"
   ]
  },
  {
   "cell_type": "markdown",
   "id": "f46ff05e",
   "metadata": {},
   "source": [
    "## Reto 1 — Configura Git & commit inicial\n",
    "\n",
    "| Paso | Contenido |\n",
    "|------|-----------|\n",
    "| 📋 **Tarea** | Configura tu identidad, inicializa el repo, añade todos los archivos y crea tu primer commit. |\n",
    "| 🎯 **Por qué lo haces** | Sin identidad Git no sabrá quién hizo el cambio; sin commit no hay “foto” del proyecto. |\n",
    "| 🧠 **Lógica** | Git guarda *snapshots* inmutables con metadatos (`autor`, `fecha`, `mensaje`). Un repo vacío no puede subirse. |"
   ]
  },
  {
   "cell_type": "code",
   "execution_count": 1,
   "id": "1299b17b",
   "metadata": {},
   "outputs": [
    {
     "name": "stdout",
     "output_type": "stream",
     "text": [
      "Initialized empty Git repository in C:/Users/bryan/Desktop/160 days to DS CX/.git/\n"
     ]
    },
    {
     "name": "stderr",
     "output_type": "stream",
     "text": [
      "warning: in the working copy of 'day_001_python_modern_syntax.ipynb', LF will be replaced by CRLF the next time Git touches it\n",
      "warning: in the working copy of 'day_002_git_github.ipynb', LF will be replaced by CRLF the next time Git touches it\n"
     ]
    },
    {
     "name": "stdout",
     "output_type": "stream",
     "text": [
      "[master (root-commit) 7d7d2d3] Initial commit: Día 1 & estructura proyecto\n",
      " 3 files changed, 1144 insertions(+)\n",
      " create mode 100644 .vscode/settings.json\n",
      " create mode 100644 day_001_python_modern_syntax.ipynb\n",
      " create mode 100644 day_002_git_github.ipynb\n"
     ]
    }
   ],
   "source": [
    "# TODO 🔧 Ajusta tu nombre y correo\n",
    "!git config --global user.name \"Dyscolo\"\n",
    "!git config --global user.email \"bryanmorales.mw@gmail.com\"\n",
    "\n",
    "# TODO 🔧 Asegúrate de estar en la carpeta raíz del proyecto\n",
    "# Usa pwd / ls para verificar\n",
    "# Inicializa repo (si no existe)\n",
    "!git init\n",
    "\n",
    "# TODO 🔧 Añade todos los archivos al staging area\n",
    "!git add .\n",
    "\n",
    "# TODO 🔧 Crea el commit\n",
    "!git commit -m \"Initial commit: Día 1 & estructura proyecto\"\n"
   ]
  },
  {
   "cell_type": "code",
   "execution_count": null,
   "id": "b08bfd2d",
   "metadata": {
    "tags": [
     "solution",
     "remove_input"
    ]
   },
   "outputs": [],
   "source": [
    "# # Solución (ejemplo)\n",
    "# !git config --global user.name \"Bryan Morales\"\n",
    "# !git config --global user.email \"bryan@example.com\"\n",
    "# !git init\n",
    "# !git add .\n",
    "# !git commit -m \"Initial commit: Día 1 & estructura proyecto\"\n"
   ]
  },
  {
   "cell_type": "code",
   "execution_count": 2,
   "id": "e8aa72f3",
   "metadata": {},
   "outputs": [],
   "source": [
    "import subprocess, sys, json, os, re\n",
    "from IPython.display import Markdown\n",
    "try:\n",
    "    msg = subprocess.check_output([\"git\",\"log\",\"-1\",\"--pretty=%s\"]).decode().strip()\n",
    "    if msg:\n",
    "        Markdown(\"✅ **¡Buen trabajo!** Commit encontrado: `\" + msg + \"`\")\n",
    "    else:\n",
    "        Markdown(\"❌ No se encontró commit. Revisa los pasos.\")\n",
    "except Exception as e:\n",
    "    Markdown(f\"❌ Error al validar: {e}\")\n"
   ]
  },
  {
   "cell_type": "markdown",
   "id": "1a10643b",
   "metadata": {},
   "source": [
    "💡 **Reflexión**\n",
    "\n",
    "¿Qué ventaja te da tener este punto de restauración? Anota una situación en la que un commit te salvaría."
   ]
  },
  {
   "cell_type": "markdown",
   "id": "ed33c7a9",
   "metadata": {},
   "source": [
    "## Reto 2 — Añade un `.gitignore`\n",
    "\n",
    "| Paso | Contenido |\n",
    "|------|-----------|\n",
    "| 📋 **Tarea** | Crear un archivo `.gitignore` con exclusiones básicas y confirmarlo en un nuevo commit. |\n",
    "| 🎯 **Por qué lo haces** | Evita subir archivos temporales (cachés, configuraciones locales) que ensucian el historial. |\n",
    "| 🧠 **Lógica** | Git no rastrea archivos listados en `.gitignore`. Mantiene tu repo limpio y reproducible. |"
   ]
  },
  {
   "cell_type": "code",
   "execution_count": null,
   "id": "586654ff",
   "metadata": {},
   "outputs": [],
   "source": [
    "# TODO 🔧 Crea .gitignore con rutas comunes\n",
    "%%bash\n",
    "echo \".vscode/\" > .gitignore\n",
    "echo \"__pycache__/\" >> .gitignore\n",
    "echo \".ipynb_checkpoints/\" >> .gitignore\n",
    "\n",
    "# Añade y comitea\n",
    "git add .gitignore\n",
    "git commit -m \"Add basic .gitignore\"\n"
   ]
  },
  {
   "cell_type": "code",
   "execution_count": null,
   "id": "1479c811",
   "metadata": {
    "tags": [
     "solution",
     "remove_input"
    ]
   },
   "outputs": [],
   "source": [
    "# Solución simplificada\n",
    "%%bash\n",
    "cat > .gitignore <<'END'\n",
    ".vscode/\n",
    "__pycache__/\n",
    ".ipynb_checkpoints/\n",
    "END\n",
    "git add .gitignore\n",
    "git commit -m \"Add basic .gitignore\"\n"
   ]
  },
  {
   "cell_type": "code",
   "execution_count": null,
   "id": "2dd412e5",
   "metadata": {},
   "outputs": [],
   "source": [
    "from IPython.display import Markdown\n",
    "import os, subprocess, pathlib\n",
    "if pathlib.Path(\".gitignore\").exists():\n",
    "    show = subprocess.check_output([\"git\",\"show\",\"--name-only\"]).decode()\n",
    "    if \".gitignore\" in show:\n",
    "        Markdown(\"✅ `.gitignore` encontrado y commiteado.\")\n",
    "    else:\n",
    "        Markdown(\"❌ `.gitignore` existe pero no está en el último commit.\")\n",
    "else:\n",
    "    Markdown(\"❌ No se encontró `.gitignore`.\")"
   ]
  },
  {
   "cell_type": "markdown",
   "id": "94cde940",
   "metadata": {},
   "source": [
    "💡 **Reflexión**\n",
    "\n",
    "Piensa en un archivo temporal que **NO** debería subirse al repo (ej.: credenciales). Escríbelo abajo."
   ]
  },
  {
   "cell_type": "markdown",
   "id": "ce7e03ff",
   "metadata": {},
   "source": [
    "## Reto 3 — Conecta GitHub y haz *push*\n",
    "\n",
    "| Paso | Contenido |\n",
    "|------|-----------|\n",
    "| 📋 **Tarea** | Añadir el origin remoto, renombrar la rama principal a `main` si es necesario y subir tu historial. |\n",
    "| 🎯 **Por qué lo haces** | GitHub actuará como copia de respaldo y plataforma colaborativa; tu historia local vive en la nube. |\n",
    "| 🧠 **Lógica** | `git remote add` registra la URL; `git branch -M main` normaliza el nombre; `git push` envía objetos y refs. |"
   ]
  },
  {
   "cell_type": "code",
   "execution_count": null,
   "id": "5cf3b3a2",
   "metadata": {},
   "outputs": [],
   "source": [
    "# TODO 🔧 Cambia la URL por la tuya\n",
    "REPO_URL=\"https://github.com/Dyscolo/160_days_DS_CX.git\"\n",
    "\n",
    "# Añade remoto solo si no existe\n",
    "!git remote | grep origin || git remote add origin $REPO_URL\n",
    "\n",
    "# (Re)nombra la rama activa a main\n",
    "!git branch -M main\n",
    "\n",
    "# Empuja los commits\n",
    "!git push -u origin main\n"
   ]
  },
  {
   "cell_type": "code",
   "execution_count": null,
   "id": "24e5e475",
   "metadata": {
    "tags": [
     "solution",
     "remove_input"
    ]
   },
   "outputs": [],
   "source": [
    "REPO_URL=\"https://github.com/Dyscolo/160_days_DS_CX.git\"\n",
    "!git remote add origin $REPO_URL\n",
    "!git branch -M main\n",
    "!git push -u origin main"
   ]
  },
  {
   "cell_type": "code",
   "execution_count": null,
   "id": "7e607646",
   "metadata": {},
   "outputs": [],
   "source": [
    "from IPython.display import Markdown\n",
    "import subprocess\n",
    "try:\n",
    "    remotes = subprocess.check_output([\"git\",\"remote\",\"-v\"]).decode()\n",
    "    if 'origin' in remotes:\n",
    "        Markdown(\"✅ Remoto configurado: origin.\")\n",
    "    else:\n",
    "        Markdown(\"❌ No se encontró remoto origin.\")\n",
    "except Exception as e:\n",
    "    Markdown(\"❌ Error: \" + str(e))\n"
   ]
  },
  {
   "cell_type": "markdown",
   "id": "341366f8",
   "metadata": {},
   "source": [
    "💡 **Reflexión**\n",
    "\n",
    "¿Cómo comprobarás en GitHub que llegó tu commit? Anota qué interfaz/elemento revisarás."
   ]
  },
  {
   "cell_type": "markdown",
   "id": "6c1bf4d8",
   "metadata": {},
   "source": [
    "## Reto 4 — Crea y sube la etiqueta `v0.1-day-2`\n",
    "\n",
    "| Paso | Contenido |\n",
    "|------|-----------|\n",
    "| 📋 **Tarea** | Marcar la versión actual con un tag semántico y enviarlo a GitHub. |\n",
    "| 🎯 **Por qué lo haces** | Los tags señalan hitos; facilitan volver atrás y generar releases. |\n",
    "| 🧠 **Lógica** | Los tags viven fuera de la línea de commits; `git push origin <tag>` los publica. |"
   ]
  },
  {
   "cell_type": "code",
   "execution_count": null,
   "id": "a810678b",
   "metadata": {},
   "outputs": [],
   "source": [
    "# TODO 🔧 Crear y subir el tag\n",
    "!git tag v0.1-day-2\n",
    "!git push origin v0.1-day-2\n"
   ]
  },
  {
   "cell_type": "code",
   "execution_count": null,
   "id": "542c63b9",
   "metadata": {
    "tags": [
     "solution",
     "remove_input"
    ]
   },
   "outputs": [],
   "source": [
    "!git tag v0.1-day-2\n",
    "!git push origin v0.1-day-2"
   ]
  },
  {
   "cell_type": "code",
   "execution_count": null,
   "id": "86d2bcd7",
   "metadata": {},
   "outputs": [],
   "source": [
    "from IPython.display import Markdown\n",
    "import subprocess\n",
    "tags = subprocess.check_output([\"git\",\"tag\"]).decode().split()\n",
    "Markdown(\"✅ Tag local OK\" if \"v0.1-day-2\" in tags else \"❌ Tag no encontrado\")\n"
   ]
  },
  {
   "cell_type": "markdown",
   "id": "3f883e4c",
   "metadata": {},
   "source": [
    "💡 **Reflexión**\n",
    "\n",
    "¿En qué caso usarías un tag en lugar de un branch? Escribe tu idea brevemente."
   ]
  },
  {
   "cell_type": "markdown",
   "id": "86feff2a",
   "metadata": {},
   "source": [
    "## 🎁 Bonus — Generar invitación `.ics` automáticamente  *(opcional)*\n",
    "\n",
    "```python\n",
    "from ics import Calendar, Event\n",
    "from datetime import datetime\n",
    "c = Calendar()\n",
    "e = Event()\n",
    "e.name = \"Día 2 – Git básico\"\n",
    "e.begin = datetime.utcnow()\n",
    "e.duration = {\"minutes\": 40}\n",
    "c.events.add(e)\n",
    "with open(\"day_002.ics\", \"w\") as f:\n",
    "    f.writelines(c)\n",
    "print(\"Archivo .ics generado ✅\")\n",
    "```\n",
    "\n",
    "> Luego:  \n",
    "> ```bash\n",
    "> git add day_002.ics  \n",
    "> git commit -m \"Add calendar invite for Day 2\"  \n",
    "> git push\n",
    "> ```\n"
   ]
  }
 ],
 "metadata": {
  "kernelspec": {
   "display_name": "base",
   "language": "python",
   "name": "python3"
  },
  "language_info": {
   "codemirror_mode": {
    "name": "ipython",
    "version": 3
   },
   "file_extension": ".py",
   "mimetype": "text/x-python",
   "name": "python",
   "nbconvert_exporter": "python",
   "pygments_lexer": "ipython3",
   "version": "3.12.7"
  }
 },
 "nbformat": 4,
 "nbformat_minor": 5
}
